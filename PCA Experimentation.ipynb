{
 "cells": [
  {
   "cell_type": "code",
   "execution_count": 21,
   "metadata": {},
   "outputs": [
    {
     "name": "stdout",
     "output_type": "stream",
     "text": [
      "The autoreload extension is already loaded. To reload it, use:\n",
      "  %reload_ext autoreload\n"
     ]
    }
   ],
   "source": [
    "%load_ext autoreload\n",
    "%autoreload 2\n",
    "\n",
    "\n",
    "from tools import prepare_data, load_data, get_label_dict, get_word_labels\n",
    "from sklearn.decomposition import PCA\n",
    "from keras.preprocessing.image import ImageDataGenerator\n",
    "from PIL import Image\n",
    "from IPython.display import display\n",
    "\n",
    "\n",
    "import numpy as np\n",
    "import os"
   ]
  },
  {
   "cell_type": "code",
   "execution_count": null,
   "metadata": {
    "scrolled": true
   },
   "outputs": [
    {
     "name": "stdout",
     "output_type": "stream",
     "text": [
      "Preparing data\n",
      "\n",
      "Loading labels\n",
      "\n",
      "Done\n",
      "\n",
      "Loading training images\n",
      "\n",
      "Done\n",
      "\n",
      "Loading validation images\n",
      "\n",
      "Done\n",
      "\n",
      "Loading test images\n",
      "\n",
      "Done\n",
      "\n",
      "Shuffling\n",
      "\n",
      "Done\n",
      "\n",
      "Formatting training images\n",
      "\n"
     ]
    }
   ],
   "source": [
    "img_folder= \"data/tiny-imagenet-200/\"\n",
    "prepare_data()\n",
    "X_train, _ = load_data()"
   ]
  },
  {
   "cell_type": "code",
   "execution_count": 5,
   "metadata": {},
   "outputs": [
    {
     "data": {
      "text/plain": [
       "'C:\\\\Users\\\\Oscar Ortega\\\\Desktop\\\\CS-182 Coursework\\\\cvproject-genclass'"
      ]
     },
     "execution_count": 5,
     "metadata": {},
     "output_type": "execute_result"
    }
   ],
   "source": [
    "pwd"
   ]
  },
  {
   "cell_type": "code",
   "execution_count": 6,
   "metadata": {},
   "outputs": [
    {
     "name": "stdout",
     "output_type": "stream",
     "text": [
      " Volume in drive C is TI10664800H\n",
      " Volume Serial Number is 0284-D82D\n",
      "\n",
      " Directory of C:\\Users\\Oscar Ortega\\Desktop\\CS-182 Coursework\\cvproject-genclass\n",
      "\n",
      "04/07/2020  11:47 AM    <DIR>          .\n",
      "04/07/2020  11:47 AM    <DIR>          ..\n",
      "04/07/2020  10:33 AM             1,890 .gitignore\n",
      "04/07/2020  11:31 AM    <DIR>          .ipynb_checkpoints\n",
      "04/07/2020  10:33 AM    <DIR>          .vscode\n",
      "04/07/2020  11:47 AM    <DIR>          __pycache__\n",
      "04/07/2020  11:20 AM    <DIR>          data\n",
      "04/07/2020  10:33 AM             2,665 models.py\n",
      "04/07/2020  11:40 AM             6,050 PCA Experimentation.ipynb\n",
      "04/07/2020  10:33 AM                50 process_data.py\n",
      "04/07/2020  10:33 AM             1,128 README.md\n",
      "04/07/2020  10:33 AM                92 requirements.txt\n",
      "04/07/2020  10:33 AM             1,109 test_submission.py\n",
      "04/07/2020  11:47 AM             4,533 tools.py\n",
      "04/07/2020  10:33 AM             1,947 train.py\n",
      "04/07/2020  10:33 AM             6,319 Training.ipynb\n",
      "              10 File(s)         25,783 bytes\n",
      "               6 Dir(s)  764,129,873,920 bytes free\n"
     ]
    }
   ],
   "source": [
    "ls"
   ]
  },
  {
   "cell_type": "code",
   "execution_count": null,
   "metadata": {},
   "outputs": [],
   "source": []
  }
 ],
 "metadata": {
  "kernelspec": {
   "display_name": "Python 3",
   "language": "python",
   "name": "python3"
  },
  "language_info": {
   "codemirror_mode": {
    "name": "ipython",
    "version": 3
   },
   "file_extension": ".py",
   "mimetype": "text/x-python",
   "name": "python",
   "nbconvert_exporter": "python",
   "pygments_lexer": "ipython3",
   "version": "3.7.6"
  }
 },
 "nbformat": 4,
 "nbformat_minor": 4
}
