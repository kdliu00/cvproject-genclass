{
 "cells": [
  {
   "cell_type": "code",
   "execution_count": null,
   "metadata": {},
   "outputs": [],
   "source": [
    "%load_ext autoreload\n",
    "%autoreload 2\n",
    "\n",
    "\n",
    "from tools import prepare_data, load_data, get_label_dict, get_word_labels\n",
    "from sklearn.decomposition import PCA\n",
    "\n",
    "import matplotlib.pyplot as plt\n",
    "import numpy as np\n",
    "import os"
   ]
  },
  {
   "cell_type": "code",
   "execution_count": null,
   "metadata": {
    "scrolled": true
   },
   "outputs": [],
   "source": [
    "img_folder= \"data/tiny-imagenet-200/\""
   ]
  },
  {
   "cell_type": "code",
   "execution_count": null,
   "metadata": {},
   "outputs": [],
   "source": [
    "X_train, _ = load_data()"
   ]
  },
  {
   "cell_type": "code",
   "execution_count": null,
   "metadata": {},
   "outputs": [],
   "source": [
    "num_samples = 1000\n",
    "X_copy = np.copy(X_train[:num_samples])"
   ]
  },
  {
   "cell_type": "code",
   "execution_count": null,
   "metadata": {},
   "outputs": [],
   "source": [
    "X_copy = X_copy.reshape((num_samples,-1))\n"
   ]
  },
  {
   "cell_type": "markdown",
   "metadata": {},
   "source": [
    "## From here, we can see how the dimensionality reduction reduces the variance of the dataset. We can choose a baseline of the variance retained for our future training. As an example if we want our preprocessed dataset to retain 90% of data, we would chose a number of dimensions equal to the baseline 90 as determined by the graph."
   ]
  },
  {
   "cell_type": "code",
   "execution_count": null,
   "metadata": {},
   "outputs": [],
   "source": [
    "k_dimensions = [i for i in range(1, 12288, 100)]\n",
    "retained_variance_percentage = []\n",
    "x_vals = [i for i in k_dimensions]\n",
    "pca = PCA()\n",
    "X_fit = pca.fit(X_copy)\n",
    "for k_dim in k_dimensions:\n",
    "    retained_variance_percentage.append(np.sum(pca.explained_variance_ratio_[:k_dim]))\n",
    "    "
   ]
  },
  {
   "cell_type": "code",
   "execution_count": null,
   "metadata": {},
   "outputs": [],
   "source": [
    "plt.plot(x_vals, retained_variance_percentage)\n",
    "plt.xlabel(\"Number of Features\")\n",
    "plt.ylabel(\"retained variance % \")\n",
    "plt.title(\"Retained Variance Percentage\")\n",
    "plt.show()"
   ]
  },
  {
   "cell_type": "markdown",
   "metadata": {},
   "source": [
    "## We will find similar results if we perform PCA independently across all three color channels"
   ]
  },
  {
   "cell_type": "code",
   "execution_count": null,
   "metadata": {},
   "outputs": [],
   "source": [
    "X_red, X_blue, X_green = X_train[:num_samples,:,:,0], X_train[:num_samples,:,:,1], X_train[:num_samples,:,:,2]\n",
    "X_red = X_red.reshape((num_samples, -1))\n",
    "X_blue = X_blue.reshape((num_samples, -1))\n",
    "X_green = X_green.reshape((num_samples, -1))"
   ]
  },
  {
   "cell_type": "code",
   "execution_count": null,
   "metadata": {},
   "outputs": [],
   "source": [
    "color_channels = {\"red\": X_red, \"blue\": X_blue, \"green\": X_green}"
   ]
  },
  {
   "cell_type": "code",
   "execution_count": null,
   "metadata": {},
   "outputs": [],
   "source": [
    "k_dimensions = [i for i in range(1, 4096, 10)]\n",
    "retained_variance_percentage = []\n",
    "x_vals = [i for i in k_dimensions]\n",
    "\n",
    "for color, data in color_channels.items():\n",
    "    pca = PCA()\n",
    "    X_fit = pca.fit(data)\n",
    "    for k_dim in k_dimensions:\n",
    "        retained_variance_percentage.append(np.sum(pca.explained_variance_ratio_[:k_dim]))\n",
    "    plt.plot(x_vals, retained_variance_percentage, label=color)\n",
    "    plt.xlabel(\"Number of Features\")\n",
    "    plt.ylabel(\"retained variance % \")\n",
    "    plt.title(f\"Retained Variance Percentage for color {color}\")\n",
    "    plt.show()\n",
    "    retained_variance_percentage = []\n",
    "    "
   ]
  },
  {
   "cell_type": "code",
   "execution_count": null,
   "metadata": {},
   "outputs": [],
   "source": []
  }
 ],
 "metadata": {
  "kernelspec": {
   "display_name": "Python 3",
   "language": "python",
   "name": "python3"
  },
  "language_info": {
   "codemirror_mode": {
    "name": "ipython",
    "version": 3
   },
   "file_extension": ".py",
   "mimetype": "text/x-python",
   "name": "python",
   "nbconvert_exporter": "python",
   "pygments_lexer": "ipython3",
   "version": "3.7.6"
  }
 },
 "nbformat": 4,
 "nbformat_minor": 4
}
