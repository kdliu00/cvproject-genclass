{
 "cells": [
  {
   "cell_type": "markdown",
   "metadata": {
    "colab_type": "text",
    "id": "Q2hVxCr4QouD"
   },
   "source": [
    "# GAN Image Example: Tiny ImageNet\n",
    "\n",
    "Original Author: Sebastian Nowozin (Sebastian.Nowozin@microsoft.com)  \n",
    "Date: 16th July 2018"
   ]
  },
  {
   "cell_type": "code",
   "execution_count": 26,
   "metadata": {
    "colab": {},
    "colab_type": "code",
    "id": "oqIM9TcvQouK"
   },
   "outputs": [],
   "source": [
    "import os\n",
    "import math\n",
    "import numpy as np\n",
    "import matplotlib.pyplot as plt\n",
    "import time"
   ]
  },
  {
   "cell_type": "code",
   "execution_count": 4,
   "metadata": {
    "colab": {
     "base_uri": "https://localhost:8080/",
     "height": 1000
    },
    "colab_type": "code",
    "executionInfo": {
     "elapsed": 40670,
     "status": "ok",
     "timestamp": 1589187551406,
     "user": {
      "displayName": "Oscar Ortega",
      "photoUrl": "",
      "userId": "06835114189335030767"
     },
     "user_tz": 420
    },
    "id": "zeKDLrEniUnr",
    "outputId": "3328e478-5fe3-4035-f7b6-c0d0860dec57"
   },
   "outputs": [],
   "source": [
    "# !sh get_data.sh"
   ]
  },
  {
   "cell_type": "code",
   "execution_count": 6,
   "metadata": {
    "colab": {},
    "colab_type": "code",
    "id": "lPkjujweQouh"
   },
   "outputs": [],
   "source": [
    "from tensorboardX import SummaryWriter"
   ]
  },
  {
   "cell_type": "code",
   "execution_count": 7,
   "metadata": {
    "colab": {},
    "colab_type": "code",
    "id": "mzpn82KjQou6"
   },
   "outputs": [],
   "source": [
    "import torchvision\n",
    "import torch\n",
    "import torchvision.transforms as transforms\n",
    "import torchvision.utils as vutils"
   ]
  },
  {
   "cell_type": "code",
   "execution_count": 8,
   "metadata": {
    "colab": {
     "base_uri": "https://localhost:8080/",
     "height": 35
    },
    "colab_type": "code",
    "executionInfo": {
     "elapsed": 3735,
     "status": "ok",
     "timestamp": 1589187585128,
     "user": {
      "displayName": "Oscar Ortega",
      "photoUrl": "",
      "userId": "06835114189335030767"
     },
     "user_tz": 420
    },
    "id": "giKv-lsPQovO",
    "outputId": "b277bb23-224d-4905-d5d2-4e3870b04357"
   },
   "outputs": [
    {
     "data": {
      "text/plain": [
       "100000"
      ]
     },
     "execution_count": 8,
     "metadata": {},
     "output_type": "execute_result"
    }
   ],
   "source": [
    "transform = transforms.Compose(\n",
    "    [transforms.ToTensor(),\n",
    "    transforms.Normalize((0.5, 0.5, 0.5), (0.5, 0.5, 0.5))])\n",
    "tinyimagenet = torchvision.datasets.ImageFolder(\"data/tiny-imagenet-200/train\",\n",
    "    transform=transform)\n",
    "len(tinyimagenet)"
   ]
  },
  {
   "cell_type": "markdown",
   "metadata": {
    "colab_type": "text",
    "id": "OvRWD61JQovf"
   },
   "source": [
    "## GAN Model"
   ]
  },
  {
   "cell_type": "code",
   "execution_count": 9,
   "metadata": {
    "colab": {
     "base_uri": "https://localhost:8080/",
     "height": 128
    },
    "colab_type": "code",
    "executionInfo": {
     "elapsed": 117045,
     "status": "ok",
     "timestamp": 1589176743100,
     "user": {
      "displayName": "Oscar Ortega",
      "photoUrl": "",
      "userId": "06835114189335030767"
     },
     "user_tz": 420
    },
    "id": "oIgLVC0TR8et",
    "outputId": "13543f99-6536-4cee-974d-743dee9b4a54"
   },
   "outputs": [],
   "source": [
    "# from google.colab import drive\n",
    "# drive.mount('/content/drive')"
   ]
  },
  {
   "cell_type": "code",
   "execution_count": 10,
   "metadata": {
    "colab": {},
    "colab_type": "code",
    "id": "MD_MyeD5Qovh"
   },
   "outputs": [],
   "source": [
    "import torch\n",
    "import torch.nn as nn\n",
    "import torch.nn.functional as F\n",
    "import torch.optim as optim\n",
    "import torch.nn.init as init\n",
    "from torch.autograd import Variable"
   ]
  },
  {
   "cell_type": "code",
   "execution_count": 11,
   "metadata": {
    "colab": {},
    "colab_type": "code",
    "id": "5elhuhcgQov0"
   },
   "outputs": [],
   "source": [
    "class ConjugateDualFunction:\n",
    "    def __init__(self, divergence_name):\n",
    "        self.divergence_name = divergence_name\n",
    "\n",
    "    def T(self, v):\n",
    "        \"\"\"Compute T(v) repersentation\n",
    "        \n",
    "        Arguments\n",
    "        v -- The scalar output (full real number range) of the discriminator\n",
    "        \"\"\"\n",
    "        if self.divergence_name == \"kl\":\n",
    "            return v\n",
    "        elif self.divergence_name == \"klrev\":\n",
    "            return -F.exp(v)\n",
    "        elif self.divergence_name == \"pearson\":\n",
    "            return v\n",
    "        elif self.divergence_name == \"neyman\":\n",
    "            return 1.0 - F.exp(v)\n",
    "        elif self.divergence_name == \"hellinger\":\n",
    "            return 1.0 - F.exp(v)\n",
    "        elif self.divergence_name == \"jensen\":\n",
    "            return math.log(2.0) - F.softplus(-v)\n",
    "        elif self.divergence_name == \"gan\":\n",
    "            return -F.softplus(-v)\n",
    "        else:\n",
    "            raise ValueError(\"Unknown divergence name in t function.\")\n",
    "\n",
    "    def fstarT(self, v):\n",
    "        \"\"\"Compute the f^*(T(v)) representation\n",
    "        \n",
    "        Arguments\n",
    "        v -- The scalar output of the variational function neural network.\n",
    "        \"\"\"\n",
    "        if self.divergence_name == \"kl\":\n",
    "            return torch.exp(v - 1.0)\n",
    "        elif self.divergence_name == \"klrev\":\n",
    "            return -1.0 - v\n",
    "        elif self.divergence_name == \"pearson\":\n",
    "            return 0.25*v*v + v\n",
    "        elif self.divergence_name == \"neyman\":\n",
    "            return 2.0 - 2.0*F.exp(0.5*v)\n",
    "        elif self.divergence_name == \"hellinger\":\n",
    "            return F.exp(-v) - 1.0\n",
    "        elif self.divergence_name == \"jensen\":\n",
    "            return F.softplus(v) - math.log(2.0)\n",
    "        elif self.divergence_name == \"gan\":\n",
    "            return F.softplus(v)\n",
    "        else:\n",
    "            raise ValueError(\"Unknown divergence name in fstar_t function.\")"
   ]
  },
  {
   "cell_type": "markdown",
   "metadata": {
    "colab_type": "text",
    "id": "7LxKJaBTQowE"
   },
   "source": [
    "### DCGAN architecture"
   ]
  },
  {
   "cell_type": "code",
   "execution_count": 12,
   "metadata": {
    "colab": {},
    "colab_type": "code",
    "id": "e5e4rITLQowH"
   },
   "outputs": [],
   "source": [
    "class DCGANGenerator(nn.Module):\n",
    "    def __init__(self, nrand):\n",
    "        super(DCGANGenerator, self).__init__()\n",
    "        self.lin1 = nn.Linear(nrand, 4*4*512)\n",
    "        init.xavier_uniform_(self.lin1.weight, gain=0.1)\n",
    "        self.lin1bn = nn.BatchNorm1d(4*4*512)\n",
    "        self.dc1 = nn.ConvTranspose2d(512, 256, 4, stride=2, padding=1)\n",
    "        self.dc1bn = nn.BatchNorm2d(256)\n",
    "        self.dc2 = nn.ConvTranspose2d(256, 128, 4, stride=2, padding=1)\n",
    "        self.dc2bn = nn.BatchNorm2d(128)\n",
    "        self.dc3 = nn.ConvTranspose2d(128, 64, 4, stride=2, padding=1)\n",
    "        self.dc3bn = nn.BatchNorm2d(64)\n",
    "        self.dc4a = nn.ConvTranspose2d(64, 32, 4, stride=2, padding=1)\n",
    "        self.dc4abn = nn.BatchNorm2d(32)\n",
    "        self.dc4b = nn.Conv2d(32, 3, 3, stride=1, padding=1)\n",
    "\n",
    "    def forward(self, z):\n",
    "        h = F.relu(self.lin1bn(self.lin1(z)))\n",
    "        h = torch.reshape(h, (-1, 512, 4, 4))\n",
    "\n",
    "        # deconv stack\n",
    "        h = F.relu(self.dc1bn(self.dc1(h)))\n",
    "        h = F.relu(self.dc2bn(self.dc2(h)))\n",
    "        h = F.relu(self.dc3bn(self.dc3(h)))\n",
    "        h = F.relu(self.dc4abn(self.dc4a(h)))\n",
    "        x = self.dc4b(h)\n",
    "\n",
    "        return x\n",
    "\n",
    "class DCGANDiscriminator(nn.Module):\n",
    "    def __init__(self):\n",
    "        super(DCGANDiscriminator, self).__init__()\n",
    "        self.conv1 = nn.Conv2d(3, 64, 4, stride=2, padding=1)\n",
    "        self.conv1bn = nn.BatchNorm2d(64)\n",
    "        self.conv2 = nn.Conv2d(64, 128, 4, stride=2, padding=1)\n",
    "        self.conv2bn = nn.BatchNorm2d(128)\n",
    "        self.conv3 = nn.Conv2d(128, 256, 4, stride=2, padding=1)\n",
    "        self.conv3bn = nn.BatchNorm2d(256)\n",
    "        self.conv4 = nn.Conv2d(256, 512, 4, stride=2, padding=1)\n",
    "        self.conv4bn = nn.BatchNorm2d(512)\n",
    "        self.lin1 = nn.Linear(4*4*512, 512)\n",
    "        self.lin1bn = nn.BatchNorm1d(512)\n",
    "        self.lin2 = nn.Linear(512, 1)\n",
    "\n",
    "    def forward(self, x):\n",
    "        h = F.elu(self.conv1bn(self.conv1(x)))\n",
    "        h = F.elu(self.conv2bn(self.conv2(h)))\n",
    "        h = F.elu(self.conv3bn(self.conv3(h)))\n",
    "        h = F.elu(self.conv4bn(self.conv4(h)))\n",
    "        h = torch.reshape(h, (-1, 4*4*512))\n",
    "\n",
    "        h = F.elu(self.lin1bn(self.lin1(h)))\n",
    "        v = self.lin2(h)\n",
    "\n",
    "        return v"
   ]
  },
  {
   "cell_type": "code",
   "execution_count": 13,
   "metadata": {
    "colab": {},
    "colab_type": "code",
    "id": "8PtYFzttQowW"
   },
   "outputs": [],
   "source": [
    "class FGANLearningObjective(nn.Module):\n",
    "    def __init__(self, gen, disc, divergence_name=\"gan\", gamma=10.0):\n",
    "        super(FGANLearningObjective, self).__init__()\n",
    "        self.gen = gen\n",
    "        self.disc = disc\n",
    "        self.conj = ConjugateDualFunction(divergence_name)\n",
    "        self.gammahalf = 0.5*gamma\n",
    "\n",
    "    def forward(self, xreal, zmodel):\n",
    "        # Real data\n",
    "        vreal = self.disc(xreal)    # Real data discriminator output\n",
    "        Treal = self.conj.T(vreal)  # Mapped to T-space\n",
    "\n",
    "        # Model data\n",
    "        xmodel = self.gen(zmodel)   # Map noise to data\n",
    "        vmodel = self.disc(xmodel)  # Model data discriminator output\n",
    "        fstar_Tmodel = self.conj.fstarT(vmodel)   # Mapped to f^*(T)\n",
    "\n",
    "        # Compute generator loss\n",
    "        loss_gen = -fstar_Tmodel.mean()\n",
    "\n",
    "        # Compute discriminator loss (negation because we minimize)\n",
    "        loss_disc = fstar_Tmodel.mean() - Treal.mean()\n",
    "\n",
    "        # Compute gradient penalty as per (Mescheder et al., ICML 2018)\n",
    "        if self.gammahalf > 0.0:\n",
    "            batchsize = xreal.size(0)\n",
    "            grad_pd = torch.autograd.grad(Treal.sum(), xreal,\n",
    "                create_graph=True, only_inputs=True)[0]\n",
    "            grad_pd_norm2 = grad_pd.pow(2)\n",
    "            grad_pd_norm2 = grad_pd_norm2.view(batchsize, -1).sum(1)\n",
    "            gradient_penalty = self.gammahalf * grad_pd_norm2.mean()\n",
    "            loss_disc += gradient_penalty\n",
    "\n",
    "        return loss_gen, loss_disc"
   ]
  },
  {
   "cell_type": "code",
   "execution_count": 14,
   "metadata": {
    "colab": {},
    "colab_type": "code",
    "id": "LBC6NTS_Qowk"
   },
   "outputs": [
    {
     "name": "stdout",
     "output_type": "stream",
     "text": [
      "cuda\n"
     ]
    }
   ],
   "source": [
    "device = torch.device(\"cuda\" if torch.cuda.is_available() else \"cpu\")\n",
    "print(device)"
   ]
  },
  {
   "cell_type": "code",
   "execution_count": 15,
   "metadata": {
    "colab": {},
    "colab_type": "code",
    "id": "9s8aJVcJQow1"
   },
   "outputs": [],
   "source": [
    "nrand = 128\n",
    "gen = DCGANGenerator(nrand)\n",
    "disc = DCGANDiscriminator()\n",
    "fgan = FGANLearningObjective(gen, disc, \"gan\", gamma=1000.0)\n",
    "fgan = fgan.to(device)\n",
    "# fgan = torch.nn.DataParallel(fgan)\n",
    "# fgan.to(device)"
   ]
  },
  {
   "cell_type": "code",
   "execution_count": 16,
   "metadata": {
    "colab": {},
    "colab_type": "code",
    "id": "YPZV0H9iQoxI"
   },
   "outputs": [],
   "source": [
    "batchsize = 32\n",
    "# optimizer_gen = optim.Adam(fgan.gen.parameters(), lr=1.0e-2)\n",
    "# optimizer_disc = optim.Adam(fgan.disc.parameters(), lr=1.0e-2)\n",
    "optimizer_gen = optim.RMSprop(fgan.gen.parameters(), lr=1.0e-2)\n",
    "optimizer_disc = optim.RMSprop(fgan.disc.parameters(), lr=1.0e-2)\n",
    "\n",
    "trainloader = torch.utils.data.DataLoader(tinyimagenet,\n",
    "    batch_size=batchsize, shuffle=True, num_workers=1)"
   ]
  },
  {
   "cell_type": "code",
   "execution_count": 17,
   "metadata": {
    "colab": {},
    "colab_type": "code",
    "id": "LDC6JbvrOP1h"
   },
   "outputs": [],
   "source": [
    "writer = SummaryWriter(log_dir=\"runs/TinyImageNet\", comment=\"f-GAN-JS\")\n",
    "\n",
    "nepochs = 500\n",
    "niter = 0\n",
    "\n",
    "checkpoint_file = \"gan_model.pt\"\n",
    "if os.path.exists(checkpoint_file):\n",
    "    print(\"Resuming this from the checkpoint\")\n",
    "#     Not sure how config.resume works, maybe change this to if True?\n",
    "    if config.resume:\n",
    "        checkpoint = torch.load(checkpoint_file)\n",
    "        fgan.load_state_dict(checkpoint['model'])\n",
    "        optimizer_gen.load_state_dict(checkpoint['optimizer_gen'])\n",
    "        optimizer_disc.load_state_dict(checkpoint['optimizer_disc'])\n",
    "        nepochs = checkpoint['epoch']"
   ]
  },
  {
   "cell_type": "code",
   "execution_count": 27,
   "metadata": {
    "colab": {
     "base_uri": "https://localhost:8080/",
     "height": 599
    },
    "colab_type": "code",
    "id": "Yci3IbzaQoxd",
    "outputId": "1d231d00-86e6-491a-fa1c-39d8ac136447",
    "scrolled": false
   },
   "outputs": [
    {
     "name": "stdout",
     "output_type": "stream",
     "text": [
      "epoch 0  iter 661  obj(D) 0.1840  obj(G) -0.0798\n",
      "Took 384.634183 seconds\n",
      "epoch 1  iter 3786  obj(D) 0.0104  obj(G) -0.0054\n",
      "Took 394.858277 seconds\n",
      "epoch 2  iter 6911  obj(D) 0.0067  obj(G) -0.0066\n",
      "Took 386.942945 seconds\n",
      "epoch 3  iter 10036  obj(D) 0.0051  obj(G) -0.0051\n",
      "Took 390.961772 seconds\n",
      "epoch 4  iter 13161  obj(D) 0.0015  obj(G) -0.0015\n",
      "Took 379.970420 seconds\n",
      "epoch 5  iter 16286  obj(D) 0.0009  obj(G) -0.0009\n",
      "Took 382.270205 seconds\n",
      "epoch 6  iter 19411  obj(D) 7.1571  obj(G) -7.1571\n",
      "Took 385.011942 seconds\n",
      "epoch 7  iter 22536  obj(D) 4.0602  obj(G) -4.0602\n",
      "Took 387.057474 seconds\n",
      "epoch 8  iter 25661  obj(D) 0.0022  obj(G) -0.0001\n",
      "Took 396.387925 seconds\n",
      "epoch 9  iter 28786  obj(D) 0.0000  obj(G) -0.0000\n",
      "Took 388.703517 seconds\n",
      "epoch 10  iter 31911  obj(D) 0.0000  obj(G) -0.0000\n",
      "Took 392.687798 seconds\n",
      "epoch 11  iter 35036  obj(D) 0.0117  obj(G) -0.0117\n",
      "Took 387.723544 seconds\n",
      "epoch 12  iter 38161  obj(D) 0.0000  obj(G) -0.0000\n",
      "Took 392.930884 seconds\n",
      "epoch 13  iter 41286  obj(D) 0.0060  obj(G) -0.0060\n",
      "Took 394.230236 seconds\n",
      "epoch 14  iter 44411  obj(D) 0.3322  obj(G) -0.3322\n",
      "Took 389.903276 seconds\n",
      "epoch 15  iter 47536  obj(D) 3.0840  obj(G) -3.0840\n",
      "Took 388.494526 seconds\n",
      "epoch 16  iter 50661  obj(D) 0.0006  obj(G) -0.0000\n",
      "Took 389.907152 seconds\n",
      "epoch 17  iter 53786  obj(D) 0.0001  obj(G) -0.0001\n",
      "Took 386.423788 seconds\n",
      "epoch 18  iter 56911  obj(D) 0.0000  obj(G) -0.0000\n",
      "Took 383.748618 seconds\n",
      "epoch 19  iter 60036  obj(D) 0.0000  obj(G) -0.0000\n",
      "Took 381.630202 seconds\n",
      "epoch 20  iter 63161  obj(D) 0.0000  obj(G) -0.0000\n",
      "Took 385.402330 seconds\n",
      "epoch 21  iter 66286  obj(D) 20.1014  obj(G) -20.1014\n",
      "Took 378.252168 seconds\n",
      "epoch 22  iter 69411  obj(D) 0.0000  obj(G) -0.0000\n",
      "Took 380.483705 seconds\n",
      "epoch 23  iter 72536  obj(D) 0.3403  obj(G) -0.3403\n",
      "Took 382.003442 seconds\n",
      "epoch 24  iter 75661  obj(D) 0.3657  obj(G) -0.3657\n",
      "Took 382.766984 seconds\n",
      "epoch 25  iter 78786  obj(D) 14.0256  obj(G) -14.0256\n",
      "Took 382.489352 seconds\n",
      "epoch 26  iter 81911  obj(D) 3.6579  obj(G) -3.6579\n",
      "Took 381.577430 seconds\n",
      "epoch 27  iter 85036  obj(D) 0.0004  obj(G) -0.0004\n",
      "Took 382.284046 seconds\n",
      "epoch 28  iter 88161  obj(D) 17.1932  obj(G) -17.1932\n",
      "Took 382.527220 seconds\n",
      "epoch 29  iter 91286  obj(D) 0.0217  obj(G) -0.0217\n",
      "Took 380.249080 seconds\n",
      "epoch 30  iter 94411  obj(D) 42.1015  obj(G) -42.1015\n",
      "Took 375.800082 seconds\n",
      "epoch 31  iter 97536  obj(D) 0.0000  obj(G) -0.0000\n",
      "Took 382.960191 seconds\n",
      "epoch 32  iter 100661  obj(D) 14.1681  obj(G) -14.1681\n",
      "Took 390.352919 seconds\n",
      "epoch 33  iter 103786  obj(D) 0.0000  obj(G) -0.0000\n",
      "Took 386.592653 seconds\n",
      "epoch 34  iter 106911  obj(D) 0.4149  obj(G) -0.4149\n",
      "Took 351.575317 seconds\n",
      "epoch 35  iter 110036  obj(D) 7.2015  obj(G) -7.2015\n",
      "Took 336.658999 seconds\n",
      "epoch 36  iter 113161  obj(D) 0.0001  obj(G) -0.0001\n",
      "Took 337.486000 seconds\n",
      "epoch 37  iter 116286  obj(D) 0.2502  obj(G) -0.2502\n",
      "Took 371.714312 seconds\n",
      "epoch 38  iter 119411  obj(D) 6.7651  obj(G) -6.7651\n",
      "Took 392.444671 seconds\n",
      "epoch 39  iter 122536  obj(D) 0.0000  obj(G) -0.0000\n",
      "Took 389.794864 seconds\n",
      "epoch 40  iter 125661  obj(D) 0.0000  obj(G) -0.0000\n",
      "Took 384.111106 seconds\n",
      "epoch 41  iter 128786  obj(D) 0.0000  obj(G) -0.0000\n",
      "Took 383.069831 seconds\n",
      "epoch 42  iter 131911  obj(D) 0.4464  obj(G) -0.4464\n"
     ]
    },
    {
     "ename": "KeyboardInterrupt",
     "evalue": "",
     "output_type": "error",
     "traceback": [
      "\u001b[1;31m---------------------------------------------------------------------------\u001b[0m",
      "\u001b[1;31mKeyboardInterrupt\u001b[0m                         Traceback (most recent call last)",
      "\u001b[1;32m<ipython-input-27-b9dd0cb05ae5>\u001b[0m in \u001b[0;36m<module>\u001b[1;34m\u001b[0m\n\u001b[0;32m     37\u001b[0m         \u001b[0mloss_disc\u001b[0m\u001b[1;33m.\u001b[0m\u001b[0mbackward\u001b[0m\u001b[1;33m(\u001b[0m\u001b[1;33m)\u001b[0m\u001b[1;33m\u001b[0m\u001b[1;33m\u001b[0m\u001b[0m\n\u001b[0;32m     38\u001b[0m \u001b[1;33m\u001b[0m\u001b[0m\n\u001b[1;32m---> 39\u001b[1;33m         \u001b[0moptimizer_gen\u001b[0m\u001b[1;33m.\u001b[0m\u001b[0mstep\u001b[0m\u001b[1;33m(\u001b[0m\u001b[1;33m)\u001b[0m\u001b[1;33m\u001b[0m\u001b[1;33m\u001b[0m\u001b[0m\n\u001b[0m\u001b[0;32m     40\u001b[0m         \u001b[0moptimizer_disc\u001b[0m\u001b[1;33m.\u001b[0m\u001b[0mstep\u001b[0m\u001b[1;33m(\u001b[0m\u001b[1;33m)\u001b[0m\u001b[1;33m\u001b[0m\u001b[1;33m\u001b[0m\u001b[0m\n\u001b[0;32m     41\u001b[0m \u001b[1;33m\u001b[0m\u001b[0m\n",
      "\u001b[1;32mc:\\users\\crazy\\miniconda3\\envs\\torch\\lib\\site-packages\\torch\\autograd\\grad_mode.py\u001b[0m in \u001b[0;36mdecorate_context\u001b[1;34m(*args, **kwargs)\u001b[0m\n\u001b[0;32m     13\u001b[0m         \u001b[1;32mdef\u001b[0m \u001b[0mdecorate_context\u001b[0m\u001b[1;33m(\u001b[0m\u001b[1;33m*\u001b[0m\u001b[0margs\u001b[0m\u001b[1;33m,\u001b[0m \u001b[1;33m**\u001b[0m\u001b[0mkwargs\u001b[0m\u001b[1;33m)\u001b[0m\u001b[1;33m:\u001b[0m\u001b[1;33m\u001b[0m\u001b[1;33m\u001b[0m\u001b[0m\n\u001b[0;32m     14\u001b[0m             \u001b[1;32mwith\u001b[0m \u001b[0mself\u001b[0m\u001b[1;33m:\u001b[0m\u001b[1;33m\u001b[0m\u001b[1;33m\u001b[0m\u001b[0m\n\u001b[1;32m---> 15\u001b[1;33m                 \u001b[1;32mreturn\u001b[0m \u001b[0mfunc\u001b[0m\u001b[1;33m(\u001b[0m\u001b[1;33m*\u001b[0m\u001b[0margs\u001b[0m\u001b[1;33m,\u001b[0m \u001b[1;33m**\u001b[0m\u001b[0mkwargs\u001b[0m\u001b[1;33m)\u001b[0m\u001b[1;33m\u001b[0m\u001b[1;33m\u001b[0m\u001b[0m\n\u001b[0m\u001b[0;32m     16\u001b[0m         \u001b[1;32mreturn\u001b[0m \u001b[0mdecorate_context\u001b[0m\u001b[1;33m\u001b[0m\u001b[1;33m\u001b[0m\u001b[0m\n\u001b[0;32m     17\u001b[0m \u001b[1;33m\u001b[0m\u001b[0m\n",
      "\u001b[1;32mc:\\users\\crazy\\miniconda3\\envs\\torch\\lib\\site-packages\\torch\\optim\\rmsprop.py\u001b[0m in \u001b[0;36mstep\u001b[1;34m(self, closure)\u001b[0m\n\u001b[0;32m     99\u001b[0m                     \u001b[0mavg\u001b[0m \u001b[1;33m=\u001b[0m \u001b[0msquare_avg\u001b[0m\u001b[1;33m.\u001b[0m\u001b[0maddcmul\u001b[0m\u001b[1;33m(\u001b[0m\u001b[0mgrad_avg\u001b[0m\u001b[1;33m,\u001b[0m \u001b[0mgrad_avg\u001b[0m\u001b[1;33m,\u001b[0m \u001b[0mvalue\u001b[0m\u001b[1;33m=\u001b[0m\u001b[1;33m-\u001b[0m\u001b[1;36m1\u001b[0m\u001b[1;33m)\u001b[0m\u001b[1;33m.\u001b[0m\u001b[0msqrt_\u001b[0m\u001b[1;33m(\u001b[0m\u001b[1;33m)\u001b[0m\u001b[1;33m.\u001b[0m\u001b[0madd_\u001b[0m\u001b[1;33m(\u001b[0m\u001b[0mgroup\u001b[0m\u001b[1;33m[\u001b[0m\u001b[1;34m'eps'\u001b[0m\u001b[1;33m]\u001b[0m\u001b[1;33m)\u001b[0m\u001b[1;33m\u001b[0m\u001b[1;33m\u001b[0m\u001b[0m\n\u001b[0;32m    100\u001b[0m                 \u001b[1;32melse\u001b[0m\u001b[1;33m:\u001b[0m\u001b[1;33m\u001b[0m\u001b[1;33m\u001b[0m\u001b[0m\n\u001b[1;32m--> 101\u001b[1;33m                     \u001b[0mavg\u001b[0m \u001b[1;33m=\u001b[0m \u001b[0msquare_avg\u001b[0m\u001b[1;33m.\u001b[0m\u001b[0msqrt\u001b[0m\u001b[1;33m(\u001b[0m\u001b[1;33m)\u001b[0m\u001b[1;33m.\u001b[0m\u001b[0madd_\u001b[0m\u001b[1;33m(\u001b[0m\u001b[0mgroup\u001b[0m\u001b[1;33m[\u001b[0m\u001b[1;34m'eps'\u001b[0m\u001b[1;33m]\u001b[0m\u001b[1;33m)\u001b[0m\u001b[1;33m\u001b[0m\u001b[1;33m\u001b[0m\u001b[0m\n\u001b[0m\u001b[0;32m    102\u001b[0m \u001b[1;33m\u001b[0m\u001b[0m\n\u001b[0;32m    103\u001b[0m                 \u001b[1;32mif\u001b[0m \u001b[0mgroup\u001b[0m\u001b[1;33m[\u001b[0m\u001b[1;34m'momentum'\u001b[0m\u001b[1;33m]\u001b[0m \u001b[1;33m>\u001b[0m \u001b[1;36m0\u001b[0m\u001b[1;33m:\u001b[0m\u001b[1;33m\u001b[0m\u001b[1;33m\u001b[0m\u001b[0m\n",
      "\u001b[1;31mKeyboardInterrupt\u001b[0m: "
     ]
    }
   ],
   "source": [
    "\n",
    "for epoch in range(nepochs):\n",
    "    start_time = time.time()\n",
    "    torch.save({\n",
    "          'epoch': nepochs,\n",
    "          'model': fgan.state_dict(),\n",
    "          'optimizer_gen': optimizer_gen.state_dict(),\n",
    "          'optimizer_disc': optimizer_disc.state_dict(),\n",
    "          }, checkpoint_file)\n",
    "    zmodel = Variable(torch.rand((batchsize,nrand), device=device))\n",
    "    xmodel = fgan.gen(zmodel)\n",
    "    xmodelimg = vutils.make_grid(xmodel,\n",
    "        normalize=True, scale_each=True)\n",
    "    #writer.add_image('Generated', xmodelimg, global_step=niter)\n",
    "    #writer.file_writer.flush()\n",
    "\n",
    "    for i, data in enumerate(trainloader, 0):\n",
    "        niter += 1\n",
    "        imgs, labels = data\n",
    "\n",
    "        fgan.zero_grad()\n",
    "\n",
    "        # Generate real data (from known distribution) and noise\n",
    "        xreal = Variable(imgs.to(device), requires_grad=True)\n",
    "        zmodel = Variable(torch.rand((batchsize,nrand), device=device))\n",
    "\n",
    "        loss_gen, loss_disc = fgan(xreal, zmodel)\n",
    "        writer.add_scalar('obj/disc', loss_disc, niter)\n",
    "        writer.add_scalar('obj/gen', loss_gen, niter)\n",
    "        \n",
    "        if i == 0:\n",
    "            print(\"epoch %d  iter %d  obj(D) %.4f  obj(G) %.4f\" % (epoch, niter, loss_disc, loss_gen))\n",
    "            \n",
    "        fgan.gen.zero_grad()\n",
    "        loss_gen.backward(retain_graph=True)\n",
    "                    \n",
    "        fgan.disc.zero_grad()\n",
    "        loss_disc.backward()\n",
    "        \n",
    "        optimizer_gen.step()\n",
    "        optimizer_disc.step()\n",
    "\n",
    "        #if epoch == 0 and i == 0:\n",
    "        #    writer.add_graph(fgan, input_to_model=(xreal,zmodel))\n",
    "    \n",
    "    end_time = time.time()\n",
    "    print(\"Took %f seconds\" % (end_time - start_time))\n",
    "      \n",
    "\n",
    "writer.export_scalars_to_json(\"./all_scalars.json\")\n",
    "writer.close()"
   ]
  },
  {
   "cell_type": "code",
   "execution_count": 0,
   "metadata": {
    "colab": {},
    "colab_type": "code",
    "id": "dY_nYIWdQo1n"
   },
   "outputs": [],
   "source": []
  }
 ],
 "metadata": {
  "accelerator": "GPU",
  "colab": {
   "collapsed_sections": [],
   "name": "GAN - Tiny ImageNet 64x64.ipynb",
   "provenance": []
  },
  "kernelspec": {
   "display_name": "Python 3",
   "language": "python",
   "name": "python3"
  },
  "language_info": {
   "codemirror_mode": {
    "name": "ipython",
    "version": 3
   },
   "file_extension": ".py",
   "mimetype": "text/x-python",
   "name": "python",
   "nbconvert_exporter": "python",
   "pygments_lexer": "ipython3",
   "version": "3.7.7"
  }
 },
 "nbformat": 4,
 "nbformat_minor": 1
}
