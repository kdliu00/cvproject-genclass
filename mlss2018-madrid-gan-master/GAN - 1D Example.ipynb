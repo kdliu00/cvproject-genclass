{
 "cells": [
  {
   "cell_type": "markdown",
   "metadata": {},
   "source": [
    "# GAN Example: Univariate Density Estimation\n",
    "\n",
    "* _Author_: Sebastian Nowozin (Sebastian.Nowozin@microsoft.com)\n",
    "* _Date_: 16th July 2018"
   ]
  },
  {
   "cell_type": "code",
   "execution_count": 1,
   "metadata": {},
   "outputs": [],
   "source": [
    "import math\n",
    "import numpy as np\n",
    "import scipy.stats\n",
    "import matplotlib.pyplot as plt"
   ]
  },
  {
   "cell_type": "code",
   "execution_count": 2,
   "metadata": {},
   "outputs": [],
   "source": [
    "df = 40.0\n",
    "tdist = scipy.stats.t(df)"
   ]
  },
  {
   "cell_type": "markdown",
   "metadata": {},
   "source": [
    "Generate training data"
   ]
  },
  {
   "cell_type": "code",
   "execution_count": 3,
   "metadata": {},
   "outputs": [],
   "source": [
    "ntrain = 5000\n",
    "Xtrain = tdist.rvs(ntrain)"
   ]
  },
  {
   "cell_type": "markdown",
   "metadata": {},
   "source": [
    "Plot the training data and the true _probability density function_ (pdf)."
   ]
  },
  {
   "cell_type": "code",
   "execution_count": 4,
   "metadata": {},
   "outputs": [
    {
     "data": {
      "image/png": "[encoded data removed]",
      "text/plain": [
       "<matplotlib.figure.Figure at 0x7ffbc5bb2dd8>"
      ]
     },
     "metadata": {},
     "output_type": "display_data"
    }
   ],
   "source": [
    "fig, ax = plt.subplots(2,1,figsize=(9.5,4.5))\n",
    "xmin = tdist.ppf(0.01)\n",
    "xmax = tdist.ppf(0.99)\n",
    "xs = np.linspace(tdist.ppf(0.01), tdist.ppf(0.99), 100)\n",
    "ax[0].hist(Xtrain, xs, label=\"train hist\")\n",
    "ax[0].legend()\n",
    "ax[1].plot(xs, tdist.pdf(xs), 'k-', lw=1.5, label=\"true pdf\")\n",
    "ax[1].legend();"
   ]
  },
  {
   "cell_type": "markdown",
   "metadata": {},
   "source": [
    "## GAN Model"
   ]
  },
  {
   "cell_type": "code",
   "execution_count": 5,
   "metadata": {},
   "outputs": [],
   "source": [
    "import torch\n",
    "import torch.nn as nn\n",
    "import torch.nn.functional as F\n",
    "import torch.optim as optim\n",
    "from torch.autograd import Variable"
   ]
  },
  {
   "cell_type": "code",
   "execution_count": 6,
   "metadata": {},
   "outputs": [],
   "source": [
    "class ConjugateDualFunction:\n",
    "    def __init__(self, divergence_name):\n",
    "        self.divergence_name = divergence_name\n",
    "\n",
    "    def T(self, v):\n",
    "        \"\"\"Compute T(v) repersentation\n",
    "        \n",
    "        Arguments\n",
    "        v -- The scalar output (full real number range) of the discriminator\n",
    "        \"\"\"\n",
    "        if self.divergence_name == \"kl\":\n",
    "            return v\n",
    "        elif self.divergence_name == \"klrev\":\n",
    "            return -F.exp(v)\n",
    "        elif self.divergence_name == \"pearson\":\n",
    "            return v\n",
    "        elif self.divergence_name == \"neyman\":\n",
    "            return 1.0 - F.exp(v)\n",
    "        elif self.divergence_name == \"hellinger\":\n",
    "            return 1.0 - F.exp(v)\n",
    "        elif self.divergence_name == \"jensen\":\n",
    "            return math.log(2.0) - F.softplus(-v)\n",
    "        elif self.divergence_name == \"gan\":\n",
    "            return -F.softplus(-v)\n",
    "        else:\n",
    "            raise ValueError(\"Unknown divergence name in t function.\")\n",
    "\n",
    "    def fstarT(self, v):\n",
    "        \"\"\"Compute the f^*(T(v)) representation\n",
    "        \n",
    "        Arguments\n",
    "        v -- The scalar output of the variational function neural network.\n",
    "        \"\"\"\n",
    "        if self.divergence_name == \"kl\":\n",
    "            return torch.exp(v - 1.0)\n",
    "        elif self.divergence_name == \"klrev\":\n",
    "            return -1.0 - v\n",
    "        elif self.divergence_name == \"pearson\":\n",
    "            return 0.25*v*v + v\n",
    "        elif self.divergence_name == \"neyman\":\n",
    "            return 2.0 - 2.0*F.exp(0.5*v)\n",
    "        elif self.divergence_name == \"hellinger\":\n",
    "            return F.exp(-v) - 1.0\n",
    "        elif self.divergence_name == \"jensen\":\n",
    "            return F.softplus(v) - math.log(2.0)\n",
    "        elif self.divergence_name == \"gan\":\n",
    "            return F.softplus(v)\n",
    "        else:\n",
    "            raise ValueError(\"Unknown divergence name in fstar_t function.\")"
   ]
  },
  {
   "cell_type": "code",
   "execution_count": 7,
   "metadata": {},
   "outputs": [],
   "source": [
    "class Generator(nn.Module):\n",
    "    def __init__(self, nhidden):\n",
    "        super(Generator, self).__init__()\n",
    "        self.lin1 = nn.Linear(1, nhidden)\n",
    "        self.lin2 = nn.Linear(nhidden, 1)\n",
    "\n",
    "    def forward(self, z):\n",
    "        h = F.relu(self.lin1(z))\n",
    "        x = self.lin2(h)\n",
    "        return x\n",
    "\n",
    "class Discriminator(nn.Module):\n",
    "    def __init__(self, nhidden):\n",
    "        super(Discriminator, self).__init__()\n",
    "        self.lin1 = nn.Linear(1, nhidden)\n",
    "        self.lin2 = nn.Linear(nhidden, 1)\n",
    "\n",
    "    def forward(self, x):\n",
    "        h = F.relu(self.lin1(x))\n",
    "        v = self.lin2(h)\n",
    "        return v"
   ]
  },
  {
   "cell_type": "code",
   "execution_count": 8,
   "metadata": {},
   "outputs": [],
   "source": [
    "class FGANLearningObjective(nn.Module):\n",
    "    def __init__(self, gen, disc, divergence_name=\"gan\", gamma=10.0):\n",
    "        super(FGANLearningObjective, self).__init__()\n",
    "        self.gen = gen\n",
    "        self.disc = disc\n",
    "        self.conj = ConjugateDualFunction(divergence_name)\n",
    "        self.gammahalf = 0.5*gamma\n",
    "\n",
    "    def forward(self, xreal, zmodel):\n",
    "        # Real data\n",
    "        vreal = self.disc(xreal)    # Real data discriminator output\n",
    "        Treal = self.conj.T(vreal)  # Mapped to T-space\n",
    "\n",
    "        # Model data\n",
    "        xmodel = self.gen(zmodel)   # Map noise to data\n",
    "        vmodel = self.disc(xmodel)  # Model data discriminator output\n",
    "        fstar_Tmodel = self.conj.fstarT(vmodel)   # Mapped to f^*(T)\n",
    "\n",
    "        # Compute generator loss\n",
    "        loss_gen = -fstar_Tmodel.mean()\n",
    "\n",
    "        # Compute discriminator loss (negation because we minimize)\n",
    "        loss_disc = fstar_Tmodel.mean() - Treal.mean()\n",
    "\n",
    "        # Compute gradient penalty as per (Mescheder et al., ICML 2018)\n",
    "        if self.gammahalf > 0.0:\n",
    "            batchsize = xreal.size(0)\n",
    "            grad_pd = torch.autograd.grad(Treal.sum(), xreal,\n",
    "                create_graph=True, only_inputs=True)[0]\n",
    "            grad_pd_norm2 = grad_pd.pow(2)\n",
    "            grad_pd_norm2 = grad_pd_norm2.view(batchsize, -1).sum(1)\n",
    "            gradient_penalty = self.gammahalf * grad_pd_norm2.mean()\n",
    "            loss_disc += gradient_penalty\n",
    "\n",
    "        return loss_gen, loss_disc"
   ]
  },
  {
   "cell_type": "code",
   "execution_count": 37,
   "metadata": {},
   "outputs": [],
   "source": [
    "gen = Generator(64)\n",
    "disc = Discriminator(64)\n",
    "fgan = FGANLearningObjective(gen, disc, \"gan\", gamma=1.0)"
   ]
  },
  {
   "cell_type": "code",
   "execution_count": 38,
   "metadata": {},
   "outputs": [],
   "source": [
    "batchsize = 256\n",
    "optimizer_gen = optim.Adam(fgan.gen.parameters(), lr=1.0e-3)\n",
    "optimizer_disc = optim.Adam(fgan.disc.parameters(), lr=1.0e-3)"
   ]
  },
  {
   "cell_type": "code",
   "execution_count": 39,
   "metadata": {},
   "outputs": [
    {
     "name": "stdout",
     "output_type": "stream",
     "text": [
      "iter 1  obj(D) 1.3662  obj(G) -0.7048\n",
      "iter 1001  obj(D) 1.0557  obj(G) -0.2876\n",
      "iter 2001  obj(D) 1.5480  obj(G) -0.9357\n",
      "iter 3001  obj(D) 1.3811  obj(G) -0.7013\n",
      "iter 4001  obj(D) 1.3683  obj(G) -0.7075\n",
      "iter 5001  obj(D) 1.3850  obj(G) -0.7221\n",
      "iter 6001  obj(D) 1.3922  obj(G) -0.6723\n",
      "iter 7001  obj(D) 1.3840  obj(G) -0.6563\n",
      "iter 8001  obj(D) 1.3858  obj(G) -0.6953\n",
      "iter 9001  obj(D) 1.3873  obj(G) -0.6738\n",
      "iter 10001  obj(D) 1.3855  obj(G) -0.6657\n",
      "iter 11001  obj(D) 1.3885  obj(G) -0.7161\n",
      "iter 12001  obj(D) 1.4034  obj(G) -0.7147\n",
      "iter 13001  obj(D) 1.3824  obj(G) -0.7015\n",
      "iter 14001  obj(D) 1.3918  obj(G) -0.6729\n",
      "iter 15001  obj(D) 1.3808  obj(G) -0.6820\n",
      "iter 16001  obj(D) 1.3966  obj(G) -0.7093\n",
      "iter 17001  obj(D) 1.3887  obj(G) -0.6966\n",
      "iter 18001  obj(D) 1.3821  obj(G) -0.6924\n",
      "iter 19001  obj(D) 1.4033  obj(G) -0.6977\n",
      "iter 20001  obj(D) 1.3881  obj(G) -0.7147\n",
      "iter 21001  obj(D) 1.3804  obj(G) -0.6897\n",
      "iter 22001  obj(D) 1.3955  obj(G) -0.7084\n",
      "iter 23001  obj(D) 1.3858  obj(G) -0.6941\n",
      "iter 24001  obj(D) 1.3870  obj(G) -0.6994\n"
     ]
    }
   ],
   "source": [
    "niter = 25000\n",
    "for i in range(niter):\n",
    "    fgan.zero_grad()\n",
    "\n",
    "    # Generate real data (from known distribution) and noise\n",
    "    xreal = Variable(torch.Tensor(np.reshape(tdist.rvs(batchsize),\n",
    "        (batchsize,1))), requires_grad=True)\n",
    "    zmodel = Variable(torch.rand((batchsize,1)))\n",
    "\n",
    "    loss_gen, loss_disc = fgan(xreal, zmodel)\n",
    "    if i % 1000 == 1:\n",
    "        print(\"iter %d  obj(D) %.4f  obj(G) %.4f\" % (i, loss_disc, loss_gen))\n",
    "\n",
    "    fgan.gen.zero_grad()\n",
    "    loss_gen.backward(retain_graph=True)\n",
    "    optimizer_gen.step()\n",
    "\n",
    "    fgan.disc.zero_grad()\n",
    "    loss_disc.backward()\n",
    "    optimizer_disc.step()"
   ]
  },
  {
   "cell_type": "markdown",
   "metadata": {},
   "source": [
    "## Visualize model results"
   ]
  },
  {
   "cell_type": "code",
   "execution_count": 40,
   "metadata": {},
   "outputs": [],
   "source": [
    "n = 4096\n",
    "Xmodel = fgan.gen(Variable(torch.rand((n,1)), requires_grad=False)).detach().cpu()\n",
    "Xmodel = Xmodel.numpy()"
   ]
  },
  {
   "cell_type": "code",
   "execution_count": 41,
   "metadata": {},
   "outputs": [],
   "source": [
    "xmin = min(np.percentile(Xmodel, 1.0), tdist.ppf(0.01))\n",
    "xmax = max(np.percentile(Xmodel, 99.0), tdist.ppf(0.99))\n",
    "nbins = 100\n",
    "xs = np.linspace(xmin, xmax, nbins)\n",
    "ydisc = fgan.disc(Variable(torch.Tensor(np.reshape(xs, (nbins,1)))))\n",
    "ydisc = ydisc.detach().cpu().numpy()"
   ]
  },
  {
   "cell_type": "code",
   "execution_count": 42,
   "metadata": {},
   "outputs": [
    {
     "data": {
      "image/png": "[encoded data removed]",
      "text/plain": [
       "<matplotlib.figure.Figure at 0x7ffb12f0c6a0>"
      ]
     },
     "metadata": {},
     "output_type": "display_data"
    }
   ],
   "source": [
    "fig, ax = plt.subplots(3,1,figsize=(9.5,7.5))\n",
    "ax[0].hist(tdist.rvs(ntrain), xs, label=\"true hist\")\n",
    "ax[0].legend()\n",
    "ax[1].hist(Xmodel, xs, label=\"model hist\")\n",
    "ax[1].legend()\n",
    "ax[2].plot(xs, ydisc, \"k-\", label=\"disc T(x)\")\n",
    "ax[2].legend();"
   ]
  },
  {
   "cell_type": "code",
   "execution_count": null,
   "metadata": {},
   "outputs": [],
   "source": []
  },
  {
   "cell_type": "code",
   "execution_count": null,
   "metadata": {},
   "outputs": [],
   "source": []
  }
 ],
 "metadata": {
  "kernelspec": {
   "display_name": "Python 3",
   "language": "python",
   "name": "python3"
  },
  "language_info": {
   "codemirror_mode": {
    "name": "ipython",
    "version": 3
   },
   "file_extension": ".py",
   "mimetype": "text/x-python",
   "name": "python",
   "nbconvert_exporter": "python",
   "pygments_lexer": "ipython3",
   "version": "3.5.2"
  }
 },
 "nbformat": 4,
 "nbformat_minor": 2
}
