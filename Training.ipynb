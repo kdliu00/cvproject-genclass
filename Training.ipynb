{
 "cells": [
  {
   "cell_type": "code",
   "execution_count": 63,
   "metadata": {},
   "outputs": [
    {
     "name": "stdout",
     "output_type": "stream",
     "text": [
      "The autoreload extension is already loaded. To reload it, use:\n",
      "  %reload_ext autoreload\n"
     ]
    }
   ],
   "source": [
    "%load_ext autoreload\n",
    "%autoreload 2\n",
    "\n",
    "from train import *\n",
    "from models import *\n",
    "from tools import load_data\n",
    "from keras import optimizers, callbacks\n",
    "from keras.utils import to_categorical\n",
    "from keras.preprocessing.image import ImageDataGenerator, array_to_img, img_to_array, load_img"
   ]
  },
  {
   "cell_type": "code",
   "execution_count": 73,
   "metadata": {},
   "outputs": [
    {
     "name": "stdout",
     "output_type": "stream",
     "text": [
      "Loading train data\n",
      "\n",
      "Finished loading data\n",
      "\n",
      "Loading val data\n",
      "\n",
      "Finished loading data\n",
      "\n"
     ]
    }
   ],
   "source": [
    "X_train, y_train = load_data()\n",
    "X_val, y_val = load_data('val')\n",
    "\n",
    "y_train = to_categorical(y_train, 200)\n",
    "y_val = to_categorical(y_val, 200)"
   ]
  },
  {
   "cell_type": "code",
   "execution_count": 75,
   "metadata": {},
   "outputs": [],
   "source": [
    "def show_history(history):\n",
    "    # Plot training & validation accuracy values\n",
    "    plt.plot(history.history['accuracy'])\n",
    "    plt.plot(history.history['val_accuracy'])\n",
    "    plt.title('Model accuracy')\n",
    "    plt.ylabel('Accuracy')\n",
    "    plt.xlabel('Epoch')\n",
    "    plt.legend(['Train', 'Val'], loc='upper left')\n",
    "    plt.show()\n",
    "\n",
    "    # Plot training & validation loss values\n",
    "    plt.plot(history.history['loss'])\n",
    "    plt.plot(history.history['val_loss'])\n",
    "    plt.title('Model loss')\n",
    "    plt.ylabel('Loss')\n",
    "    plt.xlabel('Epoch')\n",
    "    plt.legend(['Train', 'Val'], loc='upper left')\n",
    "    plt.show()\n",
    "    \n",
    "def schedule(epoch, lr):\n",
    "    if (epoch + 1) % 10 == 0:\n",
    "        return lr / 10.\n",
    "    return lr"
   ]
  },
  {
   "cell_type": "code",
   "execution_count": 95,
   "metadata": {},
   "outputs": [],
   "source": [
    "datagen = ImageDataGenerator(featurewise_center=True, \n",
    "                             featurewise_std_normalization=True,\n",
    "                             rotation_range=20,\n",
    "                             width_shift_range=0.2,\n",
    "                             height_shift_range=0.2, \n",
    "                             horizontal_flip=True)\n",
    "\n",
    "datagen.fit(X_train)\n",
    "datagen.fit(X_val)\n",
    "\n",
    "data = {'train': (X_train, y_train), \n",
    "        'val': (X_val, y_val)}"
   ]
  },
  {
   "cell_type": "code",
   "execution_count": 96,
   "metadata": {},
   "outputs": [],
   "source": [
    "early_stop = callbacks.EarlyStopping(monitor='val_loss', patience=5)\n",
    "lr_scheduler = callbacks.LearningRateScheduler(schedule, verbose=0)\n",
    "\n",
    "cb_list = [early_stop, lr_scheduler]"
   ]
  },
  {
   "cell_type": "code",
   "execution_count": 100,
   "metadata": {},
   "outputs": [],
   "source": [
    "model = BravoNet()"
   ]
  },
  {
   "cell_type": "code",
   "execution_count": null,
   "metadata": {},
   "outputs": [
    {
     "name": "stdout",
     "output_type": "stream",
     "text": [
      "Model: \"BravoNet\"\n",
      "_________________________________________________________________\n",
      "Layer (type)                 Output Shape              Param #   \n",
      "=================================================================\n",
      "resnet152v2 (Model)          (None, 2, 2, 2048)        58331648  \n",
      "_________________________________________________________________\n",
      "flatten_25 (Flatten)         (None, 8192)              0         \n",
      "_________________________________________________________________\n",
      "dense_68 (Dense)             (None, 1024)              8389632   \n",
      "_________________________________________________________________\n",
      "batch_normalization_33 (Batc (None, 1024)              4096      \n",
      "_________________________________________________________________\n",
      "leaky_re_lu_61 (LeakyReLU)   (None, 1024)              0         \n",
      "_________________________________________________________________\n",
      "dropout_45 (Dropout)         (None, 1024)              0         \n",
      "_________________________________________________________________\n",
      "dense_69 (Dense)             (None, 512)               524800    \n",
      "_________________________________________________________________\n",
      "batch_normalization_34 (Batc (None, 512)               2048      \n",
      "_________________________________________________________________\n",
      "leaky_re_lu_62 (LeakyReLU)   (None, 512)               0         \n",
      "_________________________________________________________________\n",
      "dropout_46 (Dropout)         (None, 512)               0         \n",
      "_________________________________________________________________\n",
      "dense_70 (Dense)             (None, 200)               102600    \n",
      "=================================================================\n",
      "Total params: 67,354,824\n",
      "Trainable params: 9,020,104\n",
      "Non-trainable params: 58,334,720\n",
      "_________________________________________________________________\n",
      "Epoch 1/40\n",
      "6250/6250 [==============================] - 310s 50ms/step - loss: 4.5873 - accuracy: 0.0750 - val_loss: 4.8325 - val_accuracy: 0.0985\n",
      "Epoch 2/40\n",
      "6250/6250 [==============================] - 295s 47ms/step - loss: 4.2371 - accuracy: 0.1133 - val_loss: 5.2063 - val_accuracy: 0.1164\n",
      "Epoch 3/40\n",
      "6250/6250 [==============================] - 299s 48ms/step - loss: 4.1375 - accuracy: 0.1266 - val_loss: 4.4077 - val_accuracy: 0.1161\n",
      "Epoch 4/40\n",
      "6250/6250 [==============================] - 297s 47ms/step - loss: 4.0811 - accuracy: 0.1362 - val_loss: 5.9121 - val_accuracy: 0.1169\n",
      "Epoch 5/40\n",
      "6250/6250 [==============================] - 297s 48ms/step - loss: 4.0332 - accuracy: 0.1434 - val_loss: 3.9431 - val_accuracy: 0.1266\n",
      "Epoch 6/40\n",
      "6250/6250 [==============================] - 298s 48ms/step - loss: 4.0043 - accuracy: 0.1471 - val_loss: 5.8294 - val_accuracy: 0.1301\n",
      "Epoch 7/40\n",
      "6250/6250 [==============================] - 298s 48ms/step - loss: 3.9756 - accuracy: 0.1499 - val_loss: 3.6668 - val_accuracy: 0.1283\n",
      "Epoch 8/40\n",
      "6250/6250 [==============================] - 299s 48ms/step - loss: 3.9510 - accuracy: 0.1544 - val_loss: 4.7629 - val_accuracy: 0.1333\n",
      "Epoch 9/40\n",
      "5198/6250 [=======================>......] - ETA: 45s - loss: 3.9338 - accuracy: 0.1582"
     ]
    }
   ],
   "source": [
    "history = train(restore=False, \n",
    "                model=model, \n",
    "                datagen=datagen,\n",
    "                data=data, \n",
    "                cb_list=cb_list)"
   ]
  },
  {
   "cell_type": "code",
   "execution_count": null,
   "metadata": {},
   "outputs": [],
   "source": [
    "show_history(history)"
   ]
  },
  {
   "cell_type": "code",
   "execution_count": null,
   "metadata": {},
   "outputs": [],
   "source": []
  }
 ],
 "metadata": {
  "kernelspec": {
   "display_name": "Python 3",
   "language": "python",
   "name": "python3"
  },
  "language_info": {
   "codemirror_mode": {
    "name": "ipython",
    "version": 3
   },
   "file_extension": ".py",
   "mimetype": "text/x-python",
   "name": "python",
   "nbconvert_exporter": "python",
   "pygments_lexer": "ipython3",
   "version": "3.7.6"
  }
 },
 "nbformat": 4,
 "nbformat_minor": 2
}
