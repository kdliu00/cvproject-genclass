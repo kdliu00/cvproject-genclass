{
 "cells": [
  {
   "cell_type": "code",
   "execution_count": 8,
   "metadata": {},
   "outputs": [
    {
     "name": "stdout",
     "output_type": "stream",
     "text": [
      "The autoreload extension is already loaded. To reload it, use:\n",
      "  %reload_ext autoreload\n"
     ]
    }
   ],
   "source": [
    "%load_ext autoreload\n",
    "%autoreload 2\n",
    "\n",
    "from train import *\n",
    "from models import *\n",
    "from tools import load_data, get_label_dict, get_word_labels\n",
    "\n",
    "from keras import optimizers\n",
    "from keras.models import load_model\n",
    "from keras.utils import to_categorical\n",
    "from keras.callbacks import ModelCheckpoint\n",
    "from keras.preprocessing.image import ImageDataGenerator\n",
    "\n",
    "from PIL import Image\n",
    "from IPython.display import display\n",
    "\n",
    "import numpy as np\n",
    "import os"
   ]
  },
  {
   "cell_type": "code",
   "execution_count": 9,
   "metadata": {},
   "outputs": [
    {
     "name": "stdout",
     "output_type": "stream",
     "text": [
      "Loading train data\n",
      "\n",
      "Finished loading train data\n",
      "\n",
      "Loading val data\n",
      "\n",
      "Finished loading val data\n",
      "\n",
      "Loading test data\n",
      "\n",
      "Finished loading test data\n",
      "\n"
     ]
    }
   ],
   "source": [
    "X_train, y_train = load_data()\n",
    "X_val, y_val = load_data(\"val\")\n",
    "X_test, _ = load_data(\"test\")\n",
    "\n",
    "y_train = to_categorical(y_train, 200)\n",
    "y_val = to_categorical(y_val, 200)"
   ]
  },
  {
   "cell_type": "code",
   "execution_count": 10,
   "metadata": {},
   "outputs": [
    {
     "name": "stdout",
     "output_type": "stream",
     "text": [
      "Loading labels\n",
      "\n",
      "Done\n",
      "\n",
      "Loading words\n",
      "\n",
      "Done\n",
      "\n"
     ]
    }
   ],
   "source": [
    "labels = get_label_dict()\n",
    "words = get_word_labels()\n",
    "\n",
    "test_images = os.listdir(\"data/tiny-imagenet-200/test/images/\")\n",
    "assert len(X_test) == len(test_images)"
   ]
  },
  {
   "cell_type": "code",
   "execution_count": 11,
   "metadata": {},
   "outputs": [],
   "source": [
    "# Image preprocessing for the data\n",
    "datagen = ImageDataGenerator(rotation_range=30, \n",
    "                             brightness_range=[0.3, 0.7], \n",
    "                             shear_range=0.2, \n",
    "                             zoom_range=0.2, \n",
    "                             horizontal_flip=True, \n",
    "                             width_shift_range=0.2,\n",
    "                             height_shift_range=0.2, \n",
    "                             channel_shift_range=90., \n",
    "                             fill_mode=\"reflect\", \n",
    "                             preprocessing_function=shuffle_channels, \n",
    "                             rescale=1./255)\n",
    "\n",
    "testgen = ImageDataGenerator(rescale=1./255)\n",
    "\n",
    "data = {\"train\": (X_train, y_train), \n",
    "        \"val\": (X_val, y_val)}"
   ]
  },
  {
   "cell_type": "code",
   "execution_count": 12,
   "metadata": {},
   "outputs": [
    {
     "name": "stdout",
     "output_type": "stream",
     "text": [
      "Model: \"BravoNet\"\n",
      "_________________________________________________________________\n",
      "Layer (type)                 Output Shape              Param #   \n",
      "=================================================================\n",
      "resnet50v2 (Model)           (None, 2048)              23564800  \n",
      "_________________________________________________________________\n",
      "dense_1 (Dense)              (None, 200)               409800    \n",
      "=================================================================\n",
      "Total params: 23,974,600\n",
      "Trainable params: 23,929,160\n",
      "Non-trainable params: 45,440\n",
      "_________________________________________________________________\n"
     ]
    }
   ],
   "source": [
    "model = BravoNet()\n",
    "model_prefix = \"models/\" + model.name + \"/\" + model.name\n",
    "model_path = model_prefix + \".h5\""
   ]
  },
  {
   "cell_type": "code",
   "execution_count": 13,
   "metadata": {},
   "outputs": [],
   "source": [
    "# Checkpoint callback to save best model between epochs\n",
    "checkpoint = ModelCheckpoint(model_path, \n",
    "                             monitor=\"val_accuracy\", \n",
    "                             verbose=1, \n",
    "                             save_best_only=True, \n",
    "                             mode=\"auto\", \n",
    "                             period=1)\n",
    "\n",
    "cb_list = [checkpoint]"
   ]
  },
  {
   "cell_type": "code",
   "execution_count": null,
   "metadata": {
    "scrolled": true
   },
   "outputs": [
    {
     "name": "stdout",
     "output_type": "stream",
     "text": [
      "Epoch 1/200\n",
      "3125/3125 [==============================] - 270s 86ms/step - loss: 4.8346 - accuracy: 0.0397 - top3_accuracy: 0.0954 - top5_accuracy: 0.1400 - val_loss: 5.4091 - val_accuracy: 0.0494 - val_top3_accuracy: 0.1207 - val_top5_accuracy: 0.1758\n",
      "\n",
      "Epoch 00001: val_accuracy improved from -inf to 0.04940, saving model to models/BravoNet/BravoNet.h5\n",
      "Epoch 2/200\n",
      "3125/3125 [==============================] - 259s 83ms/step - loss: 4.2613 - accuracy: 0.0945 - top3_accuracy: 0.2019 - top5_accuracy: 0.2767 - val_loss: 4.7272 - val_accuracy: 0.0984 - val_top3_accuracy: 0.2103 - val_top5_accuracy: 0.2881\n",
      "\n",
      "Epoch 00002: val_accuracy improved from 0.04940 to 0.09840, saving model to models/BravoNet/BravoNet.h5\n",
      "Epoch 3/200\n",
      "3125/3125 [==============================] - 257s 82ms/step - loss: 3.9589 - accuracy: 0.1377 - top3_accuracy: 0.2696 - top5_accuracy: 0.3553 - val_loss: 4.3959 - val_accuracy: 0.1197 - val_top3_accuracy: 0.2380 - val_top5_accuracy: 0.3120\n",
      "\n",
      "Epoch 00003: val_accuracy improved from 0.09840 to 0.11970, saving model to models/BravoNet/BravoNet.h5\n",
      "Epoch 4/200\n",
      "3125/3125 [==============================] - 253s 81ms/step - loss: 3.7600 - accuracy: 0.1683 - top3_accuracy: 0.3143 - top5_accuracy: 0.4020 - val_loss: 4.4534 - val_accuracy: 0.1549 - val_top3_accuracy: 0.2962 - val_top5_accuracy: 0.3781\n",
      "\n",
      "Epoch 00004: val_accuracy improved from 0.11970 to 0.15490, saving model to models/BravoNet/BravoNet.h5\n",
      "Epoch 5/200\n",
      " 330/3125 [==>...........................] - ETA: 3:34 - loss: 3.6318 - accuracy: 0.1895 - top3_accuracy: 0.3450 - top5_accuracy: 0.4357"
     ]
    }
   ],
   "source": [
    "optim = optimizers.Adam(learning_rate=0.001)\n",
    "\n",
    "history = train(model_path=model_path, \n",
    "                restore=False, \n",
    "                epochs=200,\n",
    "                model=model, \n",
    "                optim=optim,\n",
    "                datagen=datagen,\n",
    "                data=data, \n",
    "                cb_list=cb_list)"
   ]
  },
  {
   "cell_type": "code",
   "execution_count": null,
   "metadata": {},
   "outputs": [],
   "source": [
    "show_history(history)"
   ]
  },
  {
   "cell_type": "code",
   "execution_count": null,
   "metadata": {},
   "outputs": [],
   "source": [
    "# This loads the model and makes predictions on the test set\n",
    "custom_metrics = {\n",
    "    \"top3_accuracy\": top3_acc,\n",
    "    \"top5_accuracy\": top5_acc\n",
    "}\n",
    "model = load_model(model_path, custom_objects=custom_metrics)\n",
    "output = model.predict_generator(testgen.flow(X_test, shuffle=False))\n",
    "results = []\n",
    "\n",
    "for result in output:\n",
    "    results.append(labels[np.argmax(result)])\n",
    "    \n",
    "assert len(results) == len(X_test)\n",
    "print(\"Test images predicted:\", len(results))"
   ]
  },
  {
   "cell_type": "code",
   "execution_count": null,
   "metadata": {},
   "outputs": [],
   "source": [
    "# This writes the test set predictions to file\n",
    "with open(model_prefix + \" Predictions.txt\", \"w\") as test_file:\n",
    "    for i in range(len(results)):\n",
    "        test_file.write(test_images[i] + \" \" + results[i] + \"\\n\")\n",
    "    print(\"Predictions saved at\", test_file.name)"
   ]
  },
  {
   "cell_type": "code",
   "execution_count": null,
   "metadata": {},
   "outputs": [],
   "source": [
    "# This shows some test set images and the model's predictions on them\n",
    "display_dim = 128\n",
    "for _ in range(10):\n",
    "    index = np.random.randint(len(X_test))\n",
    "    img = Image.fromarray(X_test[index], \"RGB\").resize(size=(display_dim, display_dim))\n",
    "    word_label = words[results[index]]\n",
    "    display(img)\n",
    "    print(word_label)"
   ]
  },
  {
   "cell_type": "code",
   "execution_count": null,
   "metadata": {},
   "outputs": [],
   "source": [
    "# This saves an HTML version of the notebook for later viewing\n",
    "os.system(\"%notebook 'Training'\")\n",
    "os.system(\"jupyter nbconvert --to html Training.ipynb\")\n",
    "\n",
    "html_path = model_prefix + \".html\"\n",
    "if path.exists(html_path):\n",
    "    os.remove(html_path)\n",
    "os.rename(\"Training.html\", html_path)"
   ]
  },
  {
   "cell_type": "code",
   "execution_count": null,
   "metadata": {},
   "outputs": [],
   "source": []
  }
 ],
 "metadata": {
  "kernelspec": {
   "display_name": "Python 3",
   "language": "python",
   "name": "python3"
  },
  "language_info": {
   "codemirror_mode": {
    "name": "ipython",
    "version": 3
   },
   "file_extension": ".py",
   "mimetype": "text/x-python",
   "name": "python",
   "nbconvert_exporter": "python",
   "pygments_lexer": "ipython3",
   "version": "3.7.7"
  }
 },
 "nbformat": 4,
 "nbformat_minor": 2
}
