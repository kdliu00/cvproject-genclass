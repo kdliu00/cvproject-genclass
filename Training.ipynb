{
 "cells": [
  {
   "cell_type": "code",
   "execution_count": 1,
   "metadata": {},
   "outputs": [
    {
     "name": "stderr",
     "output_type": "stream",
     "text": [
      "Using TensorFlow backend.\n"
     ]
    }
   ],
   "source": [
    "%load_ext autoreload\n",
    "%autoreload 2\n",
    "\n",
    "from train import *\n",
    "from models import *\n",
    "from tools import *\n",
    "\n",
    "from keras import optimizers\n",
    "from keras.models import load_model\n",
    "from keras.utils import to_categorical\n",
    "from keras.callbacks import *\n",
    "from keras.preprocessing.image import ImageDataGenerator\n",
    "\n",
    "from PIL import Image\n",
    "from IPython.display import display\n",
    "\n",
    "import numpy as np\n",
    "import os"
   ]
  },
  {
   "cell_type": "code",
   "execution_count": 2,
   "metadata": {},
   "outputs": [
    {
     "name": "stdout",
     "output_type": "stream",
     "text": [
      "Loading train data\n",
      "\n",
      "Finished loading train data\n",
      "\n",
      "Loading val data\n",
      "\n",
      "Finished loading val data\n",
      "\n",
      "Loading test data\n",
      "\n",
      "Finished loading test data\n",
      "\n",
      "Input shape: (64, 64, 3)\n",
      "[0.75294118 0.83137255 0.83529412]\n"
     ]
    }
   ],
   "source": [
    "X_train, y_train = load_data()\n",
    "X_val, y_val = load_data(\"val\")\n",
    "X_test, _ = load_data(\"test\")\n",
    "\n",
    "input_shape = X_train[0].shape\n",
    "print(\"Input shape: \" + str(input_shape))\n",
    "print(X_train[0][0][0])\n",
    "\n",
    "y_train = to_categorical(y_train, 200)\n",
    "y_val = to_categorical(y_val, 200)"
   ]
  },
  {
   "cell_type": "code",
   "execution_count": 3,
   "metadata": {},
   "outputs": [
    {
     "name": "stdout",
     "output_type": "stream",
     "text": [
      "Loading labels\n",
      "\n",
      "Done\n",
      "\n",
      "Loading words\n",
      "\n",
      "Done\n",
      "\n"
     ]
    }
   ],
   "source": [
    "labels = get_label_dict()\n",
    "words = get_word_labels()\n",
    "\n",
    "test_images = os.listdir(\"data/tiny-imagenet-200/test/images/\")\n",
    "assert len(X_test) == len(test_images)"
   ]
  },
  {
   "cell_type": "code",
   "execution_count": 4,
   "metadata": {
    "scrolled": true
   },
   "outputs": [],
   "source": [
    "# Image preprocessing for the data\n",
    "datagen = ImageDataGenerator(horizontal_flip=True, \n",
    "                             shear_range=20., \n",
    "                             zoom_range=0.4, \n",
    "                             width_shift_range=0.2,\n",
    "                             height_shift_range=0.2, \n",
    "                             channel_shift_range=0.1, \n",
    "                             fill_mode=\"reflect\", \n",
    "                             preprocessing_function=shuffle_channels)\n",
    "\n",
    "testgen = ImageDataGenerator()\n",
    "\n",
    "data = {\"train\": (X_train, y_train), \n",
    "        \"val\": (X_val, y_val)}"
   ]
  },
  {
   "cell_type": "code",
   "execution_count": 5,
   "metadata": {
    "scrolled": false
   },
   "outputs": [
    {
     "name": "stdout",
     "output_type": "stream",
     "text": [
      "Model: \"AlphaNet_v5\"\n",
      "_________________________________________________________________\n",
      "Layer (type)                 Output Shape              Param #   \n",
      "=================================================================\n",
      "conv2d_1 (Conv2D)            (None, 64, 64, 32)        4736      \n",
      "_________________________________________________________________\n",
      "batch_normalization_1 (Batch (None, 64, 64, 32)        128       \n",
      "_________________________________________________________________\n",
      "leaky_re_lu_1 (LeakyReLU)    (None, 64, 64, 32)        0         \n",
      "_________________________________________________________________\n",
      "max_pooling2d_1 (MaxPooling2 (None, 32, 32, 32)        0         \n",
      "_________________________________________________________________\n",
      "spatial_dropout2d_1 (Spatial (None, 32, 32, 32)        0         \n",
      "_________________________________________________________________\n",
      "conv2d_2 (Conv2D)            (None, 32, 32, 64)        51264     \n",
      "_________________________________________________________________\n",
      "batch_normalization_2 (Batch (None, 32, 32, 64)        256       \n",
      "_________________________________________________________________\n",
      "leaky_re_lu_2 (LeakyReLU)    (None, 32, 32, 64)        0         \n",
      "_________________________________________________________________\n",
      "max_pooling2d_2 (MaxPooling2 (None, 16, 16, 64)        0         \n",
      "_________________________________________________________________\n",
      "spatial_dropout2d_2 (Spatial (None, 16, 16, 64)        0         \n",
      "_________________________________________________________________\n",
      "conv2d_3 (Conv2D)            (None, 16, 16, 128)       73856     \n",
      "_________________________________________________________________\n",
      "batch_normalization_3 (Batch (None, 16, 16, 128)       512       \n",
      "_________________________________________________________________\n",
      "leaky_re_lu_3 (LeakyReLU)    (None, 16, 16, 128)       0         \n",
      "_________________________________________________________________\n",
      "max_pooling2d_3 (MaxPooling2 (None, 8, 8, 128)         0         \n",
      "_________________________________________________________________\n",
      "spatial_dropout2d_3 (Spatial (None, 8, 8, 128)         0         \n",
      "_________________________________________________________________\n",
      "conv2d_4 (Conv2D)            (None, 8, 8, 256)         295168    \n",
      "_________________________________________________________________\n",
      "batch_normalization_4 (Batch (None, 8, 8, 256)         1024      \n",
      "_________________________________________________________________\n",
      "leaky_re_lu_4 (LeakyReLU)    (None, 8, 8, 256)         0         \n",
      "_________________________________________________________________\n",
      "conv2d_5 (Conv2D)            (None, 8, 8, 512)         1180160   \n",
      "_________________________________________________________________\n",
      "batch_normalization_5 (Batch (None, 8, 8, 512)         2048      \n",
      "_________________________________________________________________\n",
      "leaky_re_lu_5 (LeakyReLU)    (None, 8, 8, 512)         0         \n",
      "_________________________________________________________________\n",
      "max_pooling2d_4 (MaxPooling2 (None, 4, 4, 512)         0         \n",
      "_________________________________________________________________\n",
      "spatial_dropout2d_4 (Spatial (None, 4, 4, 512)         0         \n",
      "_________________________________________________________________\n",
      "flatten_1 (Flatten)          (None, 8192)              0         \n",
      "_________________________________________________________________\n",
      "dense_1 (Dense)              (None, 1024)              8389632   \n",
      "_________________________________________________________________\n",
      "batch_normalization_6 (Batch (None, 1024)              4096      \n",
      "_________________________________________________________________\n",
      "leaky_re_lu_6 (LeakyReLU)    (None, 1024)              0         \n",
      "_________________________________________________________________\n",
      "dropout_1 (Dropout)          (None, 1024)              0         \n",
      "_________________________________________________________________\n",
      "dense_2 (Dense)              (None, 1024)              1049600   \n",
      "_________________________________________________________________\n",
      "batch_normalization_7 (Batch (None, 1024)              4096      \n",
      "_________________________________________________________________\n",
      "leaky_re_lu_7 (LeakyReLU)    (None, 1024)              0         \n",
      "_________________________________________________________________\n",
      "dropout_2 (Dropout)          (None, 1024)              0         \n",
      "_________________________________________________________________\n",
      "dense_3 (Dense)              (None, 200)               205000    \n",
      "=================================================================\n",
      "Total params: 11,261,576\n",
      "Trainable params: 11,255,496\n",
      "Non-trainable params: 6,080\n",
      "_________________________________________________________________\n"
     ]
    }
   ],
   "source": [
    "keras.backend.clear_session()\n",
    "\n",
    "model = AlphaNet(input_shape, \"v5\")\n",
    "model_prefix = \"models/\" + model.name + \"/\" + model.name\n",
    "model_path = model_prefix + \".h5\""
   ]
  },
  {
   "cell_type": "code",
   "execution_count": 6,
   "metadata": {},
   "outputs": [],
   "source": [
    "# Saves the best model based on monitor value between epochs\n",
    "checkpoint = ModelCheckpoint(model_path, \n",
    "                             monitor=\"val_accuracy\", \n",
    "                             verbose=1, \n",
    "                             save_best_only=True, \n",
    "                             period=1)\n",
    "\n",
    "# Stops training early when no improvement for monitor value\n",
    "early_stop = EarlyStopping(monitor=\"val_accuracy\", \n",
    "                           min_delta=0, \n",
    "                           patience=10, \n",
    "                           verbose=1)\n",
    "\n",
    "# Reduces learning rate when monitor value plateaus\n",
    "reduce_lr = ReduceLROnPlateau(monitor=\"val_accuracy\", \n",
    "                              factor=0.316, \n",
    "                              patience=5, \n",
    "                              verbose=1)\n",
    "\n",
    "# Logs training data to CSV\n",
    "restore = False # Whether or not we want to restore weights and continue training from a previous session\n",
    "csv_log = CSVLogger(model_prefix + \".csv\", separator=',', append=restore)\n",
    "\n",
    "cb_list = [checkpoint, early_stop, reduce_lr, csv_log]"
   ]
  },
  {
   "cell_type": "code",
   "execution_count": 7,
   "metadata": {
    "scrolled": false
   },
   "outputs": [
    {
     "name": "stdout",
     "output_type": "stream",
     "text": [
      "Epoch 1/300\n",
      " - 130s - loss: 5.6325 - accuracy: 0.0075 - top3_accuracy: 0.0216 - top5_accuracy: 0.0342 - val_loss: 5.0071 - val_accuracy: 0.0269 - val_top3_accuracy: 0.0646 - val_top5_accuracy: 0.0935\n",
      "\n",
      "Epoch 00001: val_accuracy improved from -inf to 0.02690, saving model to models/AlphaNet_v5/AlphaNet_v5.h5\n",
      "Epoch 2/300\n",
      " - 95s - loss: 5.4246 - accuracy: 0.0139 - top3_accuracy: 0.0362 - top5_accuracy: 0.0560 - val_loss: 4.9464 - val_accuracy: 0.0370 - val_top3_accuracy: 0.0884 - val_top5_accuracy: 0.1266\n",
      "\n",
      "Epoch 00002: val_accuracy improved from 0.02690 to 0.03700, saving model to models/AlphaNet_v5/AlphaNet_v5.h5\n",
      "Epoch 3/300\n",
      " - 94s - loss: 5.3029 - accuracy: 0.0179 - top3_accuracy: 0.0471 - top5_accuracy: 0.0718 - val_loss: 4.4860 - val_accuracy: 0.0473 - val_top3_accuracy: 0.1076 - val_top5_accuracy: 0.1553\n",
      "\n",
      "Epoch 00003: val_accuracy improved from 0.03700 to 0.04730, saving model to models/AlphaNet_v5/AlphaNet_v5.h5\n",
      "Epoch 4/300\n",
      " - 95s - loss: 5.2190 - accuracy: 0.0224 - top3_accuracy: 0.0555 - top5_accuracy: 0.0835 - val_loss: 4.7388 - val_accuracy: 0.0564 - val_top3_accuracy: 0.1219 - val_top5_accuracy: 0.1730\n",
      "\n",
      "Epoch 00004: val_accuracy improved from 0.04730 to 0.05640, saving model to models/AlphaNet_v5/AlphaNet_v5.h5\n",
      "Epoch 5/300\n",
      " - 95s - loss: 5.1511 - accuracy: 0.0248 - top3_accuracy: 0.0625 - top5_accuracy: 0.0944 - val_loss: 5.0064 - val_accuracy: 0.0664 - val_top3_accuracy: 0.1407 - val_top5_accuracy: 0.1936\n",
      "\n",
      "Epoch 00005: val_accuracy improved from 0.05640 to 0.06640, saving model to models/AlphaNet_v5/AlphaNet_v5.h5\n",
      "Epoch 6/300\n",
      " - 95s - loss: 5.0951 - accuracy: 0.0300 - top3_accuracy: 0.0714 - top5_accuracy: 0.1051 - val_loss: 4.8870 - val_accuracy: 0.0757 - val_top3_accuracy: 0.1522 - val_top5_accuracy: 0.2052\n",
      "\n",
      "Epoch 00006: val_accuracy improved from 0.06640 to 0.07570, saving model to models/AlphaNet_v5/AlphaNet_v5.h5\n",
      "Epoch 7/300\n",
      " - 94s - loss: 5.0559 - accuracy: 0.0322 - top3_accuracy: 0.0757 - top5_accuracy: 0.1115 - val_loss: 4.4302 - val_accuracy: 0.0791 - val_top3_accuracy: 0.1604 - val_top5_accuracy: 0.2133\n",
      "\n",
      "Epoch 00007: val_accuracy improved from 0.07570 to 0.07910, saving model to models/AlphaNet_v5/AlphaNet_v5.h5\n",
      "Epoch 8/300\n",
      " - 94s - loss: 5.0153 - accuracy: 0.0353 - top3_accuracy: 0.0825 - top5_accuracy: 0.1203 - val_loss: 4.7829 - val_accuracy: 0.0851 - val_top3_accuracy: 0.1682 - val_top5_accuracy: 0.2254\n",
      "\n",
      "Epoch 00008: val_accuracy improved from 0.07910 to 0.08510, saving model to models/AlphaNet_v5/AlphaNet_v5.h5\n",
      "Epoch 9/300\n",
      " - 94s - loss: 4.9725 - accuracy: 0.0384 - top3_accuracy: 0.0901 - top5_accuracy: 0.1307 - val_loss: 4.6343 - val_accuracy: 0.0855 - val_top3_accuracy: 0.1716 - val_top5_accuracy: 0.2326\n",
      "\n",
      "Epoch 00009: val_accuracy improved from 0.08510 to 0.08550, saving model to models/AlphaNet_v5/AlphaNet_v5.h5\n",
      "Epoch 10/300\n",
      " - 94s - loss: 4.9337 - accuracy: 0.0424 - top3_accuracy: 0.0965 - top5_accuracy: 0.1383 - val_loss: 4.5175 - val_accuracy: 0.0878 - val_top3_accuracy: 0.1796 - val_top5_accuracy: 0.2420\n",
      "\n",
      "Epoch 00010: val_accuracy improved from 0.08550 to 0.08780, saving model to models/AlphaNet_v5/AlphaNet_v5.h5\n",
      "Epoch 11/300\n",
      " - 94s - loss: 4.9066 - accuracy: 0.0444 - top3_accuracy: 0.1010 - top5_accuracy: 0.1451 - val_loss: 4.2825 - val_accuracy: 0.0941 - val_top3_accuracy: 0.1861 - val_top5_accuracy: 0.2491\n",
      "\n",
      "Epoch 00011: val_accuracy improved from 0.08780 to 0.09410, saving model to models/AlphaNet_v5/AlphaNet_v5.h5\n",
      "Epoch 12/300\n",
      " - 94s - loss: 4.8824 - accuracy: 0.0460 - top3_accuracy: 0.1054 - top5_accuracy: 0.1498 - val_loss: 4.9722 - val_accuracy: 0.0951 - val_top3_accuracy: 0.1873 - val_top5_accuracy: 0.2512\n",
      "\n",
      "Epoch 00012: val_accuracy improved from 0.09410 to 0.09510, saving model to models/AlphaNet_v5/AlphaNet_v5.h5\n",
      "Epoch 13/300\n",
      " - 94s - loss: 4.8484 - accuracy: 0.0494 - top3_accuracy: 0.1115 - top5_accuracy: 0.1570 - val_loss: 3.4072 - val_accuracy: 0.1016 - val_top3_accuracy: 0.1988 - val_top5_accuracy: 0.2585\n",
      "\n",
      "Epoch 00013: val_accuracy improved from 0.09510 to 0.10160, saving model to models/AlphaNet_v5/AlphaNet_v5.h5\n",
      "Epoch 14/300\n",
      " - 94s - loss: 4.8284 - accuracy: 0.0513 - top3_accuracy: 0.1146 - top5_accuracy: 0.1626 - val_loss: 4.3602 - val_accuracy: 0.1002 - val_top3_accuracy: 0.1990 - val_top5_accuracy: 0.2594\n",
      "\n",
      "Epoch 00014: val_accuracy did not improve from 0.10160\n",
      "Epoch 15/300\n",
      " - 94s - loss: 4.8057 - accuracy: 0.0548 - top3_accuracy: 0.1190 - top5_accuracy: 0.1667 - val_loss: 3.8358 - val_accuracy: 0.1072 - val_top3_accuracy: 0.2069 - val_top5_accuracy: 0.2691\n",
      "\n",
      "Epoch 00015: val_accuracy improved from 0.10160 to 0.10720, saving model to models/AlphaNet_v5/AlphaNet_v5.h5\n",
      "Epoch 16/300\n",
      " - 94s - loss: 4.7808 - accuracy: 0.0559 - top3_accuracy: 0.1226 - top5_accuracy: 0.1720 - val_loss: 4.4787 - val_accuracy: 0.1057 - val_top3_accuracy: 0.2087 - val_top5_accuracy: 0.2734\n",
      "\n",
      "Epoch 00016: val_accuracy did not improve from 0.10720\n",
      "Epoch 17/300\n"
     ]
    },
    {
     "ename": "KeyboardInterrupt",
     "evalue": "",
     "output_type": "error",
     "traceback": [
      "\u001b[1;31m---------------------------------------------------------------------------\u001b[0m",
      "\u001b[1;31mKeyboardInterrupt\u001b[0m                         Traceback (most recent call last)",
      "\u001b[1;32m<ipython-input-7-46cb000554d0>\u001b[0m in \u001b[0;36m<module>\u001b[1;34m\u001b[0m\n\u001b[0;32m     10\u001b[0m                 \u001b[0mdata\u001b[0m\u001b[1;33m=\u001b[0m\u001b[0mdata\u001b[0m\u001b[1;33m,\u001b[0m\u001b[1;33m\u001b[0m\u001b[1;33m\u001b[0m\u001b[0m\n\u001b[0;32m     11\u001b[0m                 \u001b[0mcb_list\u001b[0m\u001b[1;33m=\u001b[0m\u001b[0mcb_list\u001b[0m\u001b[1;33m,\u001b[0m\u001b[1;33m\u001b[0m\u001b[1;33m\u001b[0m\u001b[0m\n\u001b[1;32m---> 12\u001b[1;33m                 batch_size=32)\n\u001b[0m",
      "\u001b[1;32m~\\Projects\\cvproject-genclass\\train.py\u001b[0m in \u001b[0;36mtrain\u001b[1;34m(model_path, restore, epochs, model, optim, datagen, testgen, data, cb_list, batch_size, verbosity)\u001b[0m\n\u001b[0;32m     49\u001b[0m                                   validation_data=testgen.flow(\n\u001b[0;32m     50\u001b[0m                                       X_val, y_val, batch_size=batch_size),\n\u001b[1;32m---> 51\u001b[1;33m                                   validation_steps=len(X_val) / batch_size)\n\u001b[0m\u001b[0;32m     52\u001b[0m \u001b[1;33m\u001b[0m\u001b[0m\n\u001b[0;32m     53\u001b[0m     \u001b[0mmodel\u001b[0m\u001b[1;33m.\u001b[0m\u001b[0msave\u001b[0m\u001b[1;33m(\u001b[0m\u001b[0mmodel_path\u001b[0m\u001b[1;33m)\u001b[0m\u001b[1;33m\u001b[0m\u001b[1;33m\u001b[0m\u001b[0m\n",
      "\u001b[1;32mc:\\users\\crazy\\miniconda3\\envs\\keras\\lib\\site-packages\\keras\\legacy\\interfaces.py\u001b[0m in \u001b[0;36mwrapper\u001b[1;34m(*args, **kwargs)\u001b[0m\n\u001b[0;32m     89\u001b[0m                 warnings.warn('Update your `' + object_name + '` call to the ' +\n\u001b[0;32m     90\u001b[0m                               'Keras 2 API: ' + signature, stacklevel=2)\n\u001b[1;32m---> 91\u001b[1;33m             \u001b[1;32mreturn\u001b[0m \u001b[0mfunc\u001b[0m\u001b[1;33m(\u001b[0m\u001b[1;33m*\u001b[0m\u001b[0margs\u001b[0m\u001b[1;33m,\u001b[0m \u001b[1;33m**\u001b[0m\u001b[0mkwargs\u001b[0m\u001b[1;33m)\u001b[0m\u001b[1;33m\u001b[0m\u001b[1;33m\u001b[0m\u001b[0m\n\u001b[0m\u001b[0;32m     92\u001b[0m         \u001b[0mwrapper\u001b[0m\u001b[1;33m.\u001b[0m\u001b[0m_original_function\u001b[0m \u001b[1;33m=\u001b[0m \u001b[0mfunc\u001b[0m\u001b[1;33m\u001b[0m\u001b[1;33m\u001b[0m\u001b[0m\n\u001b[0;32m     93\u001b[0m         \u001b[1;32mreturn\u001b[0m \u001b[0mwrapper\u001b[0m\u001b[1;33m\u001b[0m\u001b[1;33m\u001b[0m\u001b[0m\n",
      "\u001b[1;32mc:\\users\\crazy\\miniconda3\\envs\\keras\\lib\\site-packages\\keras\\engine\\training.py\u001b[0m in \u001b[0;36mfit_generator\u001b[1;34m(self, generator, steps_per_epoch, epochs, verbose, callbacks, validation_data, validation_steps, validation_freq, class_weight, max_queue_size, workers, use_multiprocessing, shuffle, initial_epoch)\u001b[0m\n\u001b[0;32m   1730\u001b[0m             \u001b[0muse_multiprocessing\u001b[0m\u001b[1;33m=\u001b[0m\u001b[0muse_multiprocessing\u001b[0m\u001b[1;33m,\u001b[0m\u001b[1;33m\u001b[0m\u001b[1;33m\u001b[0m\u001b[0m\n\u001b[0;32m   1731\u001b[0m             \u001b[0mshuffle\u001b[0m\u001b[1;33m=\u001b[0m\u001b[0mshuffle\u001b[0m\u001b[1;33m,\u001b[0m\u001b[1;33m\u001b[0m\u001b[1;33m\u001b[0m\u001b[0m\n\u001b[1;32m-> 1732\u001b[1;33m             initial_epoch=initial_epoch)\n\u001b[0m\u001b[0;32m   1733\u001b[0m \u001b[1;33m\u001b[0m\u001b[0m\n\u001b[0;32m   1734\u001b[0m     \u001b[1;33m@\u001b[0m\u001b[0minterfaces\u001b[0m\u001b[1;33m.\u001b[0m\u001b[0mlegacy_generator_methods_support\u001b[0m\u001b[1;33m\u001b[0m\u001b[1;33m\u001b[0m\u001b[0m\n",
      "\u001b[1;32mc:\\users\\crazy\\miniconda3\\envs\\keras\\lib\\site-packages\\keras\\engine\\training_generator.py\u001b[0m in \u001b[0;36mfit_generator\u001b[1;34m(model, generator, steps_per_epoch, epochs, verbose, callbacks, validation_data, validation_steps, validation_freq, class_weight, max_queue_size, workers, use_multiprocessing, shuffle, initial_epoch)\u001b[0m\n\u001b[0;32m    218\u001b[0m                                             \u001b[0msample_weight\u001b[0m\u001b[1;33m=\u001b[0m\u001b[0msample_weight\u001b[0m\u001b[1;33m,\u001b[0m\u001b[1;33m\u001b[0m\u001b[1;33m\u001b[0m\u001b[0m\n\u001b[0;32m    219\u001b[0m                                             \u001b[0mclass_weight\u001b[0m\u001b[1;33m=\u001b[0m\u001b[0mclass_weight\u001b[0m\u001b[1;33m,\u001b[0m\u001b[1;33m\u001b[0m\u001b[1;33m\u001b[0m\u001b[0m\n\u001b[1;32m--> 220\u001b[1;33m                                             reset_metrics=False)\n\u001b[0m\u001b[0;32m    221\u001b[0m \u001b[1;33m\u001b[0m\u001b[0m\n\u001b[0;32m    222\u001b[0m                 \u001b[0mouts\u001b[0m \u001b[1;33m=\u001b[0m \u001b[0mto_list\u001b[0m\u001b[1;33m(\u001b[0m\u001b[0mouts\u001b[0m\u001b[1;33m)\u001b[0m\u001b[1;33m\u001b[0m\u001b[1;33m\u001b[0m\u001b[0m\n",
      "\u001b[1;32mc:\\users\\crazy\\miniconda3\\envs\\keras\\lib\\site-packages\\keras\\engine\\training.py\u001b[0m in \u001b[0;36mtrain_on_batch\u001b[1;34m(self, x, y, sample_weight, class_weight, reset_metrics)\u001b[0m\n\u001b[0;32m   1512\u001b[0m             \u001b[0mins\u001b[0m \u001b[1;33m=\u001b[0m \u001b[0mx\u001b[0m \u001b[1;33m+\u001b[0m \u001b[0my\u001b[0m \u001b[1;33m+\u001b[0m \u001b[0msample_weights\u001b[0m\u001b[1;33m\u001b[0m\u001b[1;33m\u001b[0m\u001b[0m\n\u001b[0;32m   1513\u001b[0m         \u001b[0mself\u001b[0m\u001b[1;33m.\u001b[0m\u001b[0m_make_train_function\u001b[0m\u001b[1;33m(\u001b[0m\u001b[1;33m)\u001b[0m\u001b[1;33m\u001b[0m\u001b[1;33m\u001b[0m\u001b[0m\n\u001b[1;32m-> 1514\u001b[1;33m         \u001b[0moutputs\u001b[0m \u001b[1;33m=\u001b[0m \u001b[0mself\u001b[0m\u001b[1;33m.\u001b[0m\u001b[0mtrain_function\u001b[0m\u001b[1;33m(\u001b[0m\u001b[0mins\u001b[0m\u001b[1;33m)\u001b[0m\u001b[1;33m\u001b[0m\u001b[1;33m\u001b[0m\u001b[0m\n\u001b[0m\u001b[0;32m   1515\u001b[0m \u001b[1;33m\u001b[0m\u001b[0m\n\u001b[0;32m   1516\u001b[0m         \u001b[1;32mif\u001b[0m \u001b[0mreset_metrics\u001b[0m\u001b[1;33m:\u001b[0m\u001b[1;33m\u001b[0m\u001b[1;33m\u001b[0m\u001b[0m\n",
      "\u001b[1;32mc:\\users\\crazy\\miniconda3\\envs\\keras\\lib\\site-packages\\tensorflow_core\\python\\keras\\backend.py\u001b[0m in \u001b[0;36m__call__\u001b[1;34m(self, inputs)\u001b[0m\n\u001b[0;32m   3733\u001b[0m     return nest.pack_sequence_as(\n\u001b[0;32m   3734\u001b[0m         \u001b[0mself\u001b[0m\u001b[1;33m.\u001b[0m\u001b[0m_outputs_structure\u001b[0m\u001b[1;33m,\u001b[0m\u001b[1;33m\u001b[0m\u001b[1;33m\u001b[0m\u001b[0m\n\u001b[1;32m-> 3735\u001b[1;33m         \u001b[1;33m[\u001b[0m\u001b[0mx\u001b[0m\u001b[1;33m.\u001b[0m\u001b[0m_numpy\u001b[0m\u001b[1;33m(\u001b[0m\u001b[1;33m)\u001b[0m \u001b[1;32mfor\u001b[0m \u001b[0mx\u001b[0m \u001b[1;32min\u001b[0m \u001b[0moutputs\u001b[0m\u001b[1;33m]\u001b[0m\u001b[1;33m,\u001b[0m  \u001b[1;31m# pylint: disable=protected-access\u001b[0m\u001b[1;33m\u001b[0m\u001b[1;33m\u001b[0m\u001b[0m\n\u001b[0m\u001b[0;32m   3736\u001b[0m         expand_composites=True)\n\u001b[0;32m   3737\u001b[0m \u001b[1;33m\u001b[0m\u001b[0m\n",
      "\u001b[1;32mc:\\users\\crazy\\miniconda3\\envs\\keras\\lib\\site-packages\\tensorflow_core\\python\\keras\\backend.py\u001b[0m in \u001b[0;36m<listcomp>\u001b[1;34m(.0)\u001b[0m\n\u001b[0;32m   3733\u001b[0m     return nest.pack_sequence_as(\n\u001b[0;32m   3734\u001b[0m         \u001b[0mself\u001b[0m\u001b[1;33m.\u001b[0m\u001b[0m_outputs_structure\u001b[0m\u001b[1;33m,\u001b[0m\u001b[1;33m\u001b[0m\u001b[1;33m\u001b[0m\u001b[0m\n\u001b[1;32m-> 3735\u001b[1;33m         \u001b[1;33m[\u001b[0m\u001b[0mx\u001b[0m\u001b[1;33m.\u001b[0m\u001b[0m_numpy\u001b[0m\u001b[1;33m(\u001b[0m\u001b[1;33m)\u001b[0m \u001b[1;32mfor\u001b[0m \u001b[0mx\u001b[0m \u001b[1;32min\u001b[0m \u001b[0moutputs\u001b[0m\u001b[1;33m]\u001b[0m\u001b[1;33m,\u001b[0m  \u001b[1;31m# pylint: disable=protected-access\u001b[0m\u001b[1;33m\u001b[0m\u001b[1;33m\u001b[0m\u001b[0m\n\u001b[0m\u001b[0;32m   3736\u001b[0m         expand_composites=True)\n\u001b[0;32m   3737\u001b[0m \u001b[1;33m\u001b[0m\u001b[0m\n",
      "\u001b[1;32mc:\\users\\crazy\\miniconda3\\envs\\keras\\lib\\site-packages\\tensorflow_core\\python\\framework\\ops.py\u001b[0m in \u001b[0;36m_numpy\u001b[1;34m(self)\u001b[0m\n\u001b[0;32m    906\u001b[0m     \u001b[1;31m# pylint: disable=protected-access\u001b[0m\u001b[1;33m\u001b[0m\u001b[1;33m\u001b[0m\u001b[1;33m\u001b[0m\u001b[0m\n\u001b[0;32m    907\u001b[0m     \u001b[1;32mtry\u001b[0m\u001b[1;33m:\u001b[0m\u001b[1;33m\u001b[0m\u001b[1;33m\u001b[0m\u001b[0m\n\u001b[1;32m--> 908\u001b[1;33m       \u001b[1;32mreturn\u001b[0m \u001b[0mself\u001b[0m\u001b[1;33m.\u001b[0m\u001b[0m_numpy_internal\u001b[0m\u001b[1;33m(\u001b[0m\u001b[1;33m)\u001b[0m\u001b[1;33m\u001b[0m\u001b[1;33m\u001b[0m\u001b[0m\n\u001b[0m\u001b[0;32m    909\u001b[0m     \u001b[1;32mexcept\u001b[0m \u001b[0mcore\u001b[0m\u001b[1;33m.\u001b[0m\u001b[0m_NotOkStatusException\u001b[0m \u001b[1;32mas\u001b[0m \u001b[0me\u001b[0m\u001b[1;33m:\u001b[0m\u001b[1;33m\u001b[0m\u001b[1;33m\u001b[0m\u001b[0m\n\u001b[0;32m    910\u001b[0m       \u001b[0msix\u001b[0m\u001b[1;33m.\u001b[0m\u001b[0mraise_from\u001b[0m\u001b[1;33m(\u001b[0m\u001b[0mcore\u001b[0m\u001b[1;33m.\u001b[0m\u001b[0m_status_to_exception\u001b[0m\u001b[1;33m(\u001b[0m\u001b[0me\u001b[0m\u001b[1;33m.\u001b[0m\u001b[0mcode\u001b[0m\u001b[1;33m,\u001b[0m \u001b[0me\u001b[0m\u001b[1;33m.\u001b[0m\u001b[0mmessage\u001b[0m\u001b[1;33m)\u001b[0m\u001b[1;33m,\u001b[0m \u001b[1;32mNone\u001b[0m\u001b[1;33m)\u001b[0m\u001b[1;33m\u001b[0m\u001b[1;33m\u001b[0m\u001b[0m\n",
      "\u001b[1;31mKeyboardInterrupt\u001b[0m: "
     ]
    }
   ],
   "source": [
    "optim = optimizers.Adam(learning_rate=0.001)\n",
    "\n",
    "history = train(model_path=model_path, \n",
    "                restore=restore, \n",
    "                epochs=300,\n",
    "                model=model, \n",
    "                optim=optim, \n",
    "                datagen=datagen, \n",
    "                testgen=testgen, \n",
    "                data=data, \n",
    "                cb_list=cb_list, \n",
    "                batch_size=32)"
   ]
  },
  {
   "cell_type": "code",
   "execution_count": null,
   "metadata": {},
   "outputs": [],
   "source": [
    "show_history(history)"
   ]
  },
  {
   "cell_type": "code",
   "execution_count": null,
   "metadata": {},
   "outputs": [],
   "source": [
    "# This loads the model and makes predictions on the test set\n",
    "custom_metrics = {\n",
    "    \"top3_accuracy\": top3_acc,\n",
    "    \"top5_accuracy\": top5_acc\n",
    "}\n",
    "model = load_model(model_path, custom_objects=custom_metrics)\n",
    "output = model.predict(X_test)\n",
    "results = []\n",
    "\n",
    "for result in output:\n",
    "    results.append(labels[np.argmax(result)])\n",
    "    \n",
    "assert len(results) == len(X_test)\n",
    "print(\"Test images predicted:\", len(results))"
   ]
  },
  {
   "cell_type": "code",
   "execution_count": null,
   "metadata": {},
   "outputs": [],
   "source": [
    "# This writes the test set predictions to file\n",
    "with open(model_prefix + \" Predictions.txt\", \"w\") as test_file:\n",
    "    for i in range(len(results)):\n",
    "        test_file.write(test_images[i] + \" \" + results[i] + \"\\n\")\n",
    "    print(\"Predictions saved at\", test_file.name)"
   ]
  },
  {
   "cell_type": "code",
   "execution_count": null,
   "metadata": {
    "scrolled": false
   },
   "outputs": [],
   "source": [
    "# This shows some test set images and the model's predictions on them\n",
    "display_dim = 128\n",
    "for _ in range(10):\n",
    "    index = np.random.randint(len(X_test))\n",
    "    word_label = words[results[index]]\n",
    "    plt.plot()\n",
    "    plt.title(word_label)\n",
    "    plt.imshow(X_test[index])\n",
    "    plt.show()"
   ]
  },
  {
   "cell_type": "code",
   "execution_count": null,
   "metadata": {},
   "outputs": [],
   "source": [
    "# This saves an HTML version of the notebook for later viewing\n",
    "# NOTE: Make sure to check if the html was completely saved, sometimes it doesn't\n",
    "from nbconvert import HTMLExporter\n",
    "import codecs\n",
    "import nbformat\n",
    "exporter = HTMLExporter()\n",
    "output_notebook = nbformat.read(\"Training.ipynb\", as_version=nbformat.NO_CONVERT)\n",
    "output, resources = exporter.from_notebook_node(output_notebook)\n",
    "codecs.open(model_prefix + \".html\", \"w\").write(output)"
   ]
  },
  {
   "cell_type": "code",
   "execution_count": null,
   "metadata": {},
   "outputs": [],
   "source": []
  }
 ],
 "metadata": {
  "kernelspec": {
   "display_name": "Python 3",
   "language": "python",
   "name": "python3"
  },
  "language_info": {
   "codemirror_mode": {
    "name": "ipython",
    "version": 3
   },
   "file_extension": ".py",
   "mimetype": "text/x-python",
   "name": "python",
   "nbconvert_exporter": "python",
   "pygments_lexer": "ipython3",
   "version": "3.7.7"
  }
 },
 "nbformat": 4,
 "nbformat_minor": 2
}
