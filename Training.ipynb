{
 "cells": [
  {
   "cell_type": "code",
   "execution_count": 20,
   "metadata": {},
   "outputs": [
    {
     "name": "stdout",
     "output_type": "stream",
     "text": [
      "The autoreload extension is already loaded. To reload it, use:\n",
      "  %reload_ext autoreload\n"
     ]
    }
   ],
   "source": [
    "%load_ext autoreload\n",
    "%autoreload 2\n",
    "\n",
    "from train import *\n",
    "from models import *\n",
    "from tools import load_data, get_label_dict, get_word_labels\n",
    "\n",
    "from keras import optimizers\n",
    "from keras.models import load_model\n",
    "from keras.utils import to_categorical\n",
    "from keras.callbacks import ModelCheckpoint\n",
    "from keras.preprocessing.image import ImageDataGenerator\n",
    "\n",
    "from PIL import Image\n",
    "from IPython.display import display\n",
    "\n",
    "import numpy as np\n",
    "import os"
   ]
  },
  {
   "cell_type": "code",
   "execution_count": 21,
   "metadata": {},
   "outputs": [
    {
     "name": "stdout",
     "output_type": "stream",
     "text": [
      "Loading train data\n",
      "\n",
      "Finished loading train data\n",
      "\n",
      "Loading val data\n",
      "\n",
      "Finished loading val data\n",
      "\n",
      "Loading test data\n",
      "\n",
      "Finished loading test data\n",
      "\n"
     ]
    }
   ],
   "source": [
    "X_train, y_train = load_data()\n",
    "X_val, y_val = load_data(\"val\")\n",
    "X_test, _ = load_data(\"test\")\n",
    "\n",
    "y_train = to_categorical(y_train, 200)\n",
    "y_val = to_categorical(y_val, 200)"
   ]
  },
  {
   "cell_type": "code",
   "execution_count": 22,
   "metadata": {},
   "outputs": [
    {
     "name": "stdout",
     "output_type": "stream",
     "text": [
      "Loading labels\n",
      "\n",
      "Done\n",
      "\n",
      "Loading words\n",
      "\n",
      "Done\n",
      "\n"
     ]
    }
   ],
   "source": [
    "labels = get_label_dict()\n",
    "words = get_word_labels()\n",
    "\n",
    "test_images = os.listdir(\"data/tiny-imagenet-200/test/images/\")\n",
    "assert len(X_test) == len(test_images)"
   ]
  },
  {
   "cell_type": "code",
   "execution_count": 23,
   "metadata": {},
   "outputs": [],
   "source": [
    "# Image preprocessing for the data\n",
    "datagen = ImageDataGenerator(width_shift_range=0.2,\n",
    "                             height_shift_range=0.2, \n",
    "                             channel_shift_range=115., \n",
    "                             fill_mode=\"reflect\", \n",
    "                             preprocessing_function=shuffle_channels, \n",
    "                             rescale=1./255)\n",
    "\n",
    "testgen = ImageDataGenerator(rescale=1./255)\n",
    "\n",
    "data = {\"train\": (X_train, y_train), \n",
    "        \"val\": (X_val, y_val)}"
   ]
  },
  {
   "cell_type": "code",
   "execution_count": 24,
   "metadata": {},
   "outputs": [],
   "source": [
    "model = AlphaNet()\n",
    "model_prefix = \"models/\" + model.name + \"/\" + model.name\n",
    "model_path = model_prefix + \".h5\""
   ]
  },
  {
   "cell_type": "code",
   "execution_count": 25,
   "metadata": {},
   "outputs": [],
   "source": [
    "# Checkpoint callback to only save best model\n",
    "checkpoint = ModelCheckpoint(model_path, \n",
    "                             monitor=\"val_accuracy\", \n",
    "                             verbose=1, \n",
    "                             save_best_only=True, \n",
    "                             mode=\"auto\", \n",
    "                             period=1)\n",
    "\n",
    "cb_list = [checkpoint]"
   ]
  },
  {
   "cell_type": "code",
   "execution_count": null,
   "metadata": {
    "scrolled": true
   },
   "outputs": [
    {
     "name": "stdout",
     "output_type": "stream",
     "text": [
      "Model: \"AlphaNet\"\n",
      "_________________________________________________________________\n",
      "Layer (type)                 Output Shape              Param #   \n",
      "=================================================================\n",
      "gaussian_noise_3 (GaussianNo (None, 64, 64, 3)         0         \n",
      "_________________________________________________________________\n",
      "conv2d_11 (Conv2D)           (None, 64, 64, 32)        4736      \n",
      "_________________________________________________________________\n",
      "batch_normalization_15 (Batc (None, 64, 64, 32)        128       \n",
      "_________________________________________________________________\n",
      "leaky_re_lu_15 (LeakyReLU)   (None, 64, 64, 32)        0         \n",
      "_________________________________________________________________\n",
      "max_pooling2d_9 (MaxPooling2 (None, 32, 32, 32)        0         \n",
      "_________________________________________________________________\n",
      "spatial_dropout2d_9 (Spatial (None, 32, 32, 32)        0         \n",
      "_________________________________________________________________\n",
      "conv2d_12 (Conv2D)           (None, 32, 32, 64)        51264     \n",
      "_________________________________________________________________\n",
      "batch_normalization_16 (Batc (None, 32, 32, 64)        256       \n",
      "_________________________________________________________________\n",
      "leaky_re_lu_16 (LeakyReLU)   (None, 32, 32, 64)        0         \n",
      "_________________________________________________________________\n",
      "max_pooling2d_10 (MaxPooling (None, 16, 16, 64)        0         \n",
      "_________________________________________________________________\n",
      "spatial_dropout2d_10 (Spatia (None, 16, 16, 64)        0         \n",
      "_________________________________________________________________\n",
      "conv2d_13 (Conv2D)           (None, 16, 16, 128)       73856     \n",
      "_________________________________________________________________\n",
      "batch_normalization_17 (Batc (None, 16, 16, 128)       512       \n",
      "_________________________________________________________________\n",
      "leaky_re_lu_17 (LeakyReLU)   (None, 16, 16, 128)       0         \n",
      "_________________________________________________________________\n",
      "max_pooling2d_11 (MaxPooling (None, 8, 8, 128)         0         \n",
      "_________________________________________________________________\n",
      "spatial_dropout2d_11 (Spatia (None, 8, 8, 128)         0         \n",
      "_________________________________________________________________\n",
      "conv2d_14 (Conv2D)           (None, 8, 8, 256)         295168    \n",
      "_________________________________________________________________\n",
      "batch_normalization_18 (Batc (None, 8, 8, 256)         1024      \n",
      "_________________________________________________________________\n",
      "leaky_re_lu_18 (LeakyReLU)   (None, 8, 8, 256)         0         \n",
      "_________________________________________________________________\n",
      "conv2d_15 (Conv2D)           (None, 8, 8, 512)         1180160   \n",
      "_________________________________________________________________\n",
      "batch_normalization_19 (Batc (None, 8, 8, 512)         2048      \n",
      "_________________________________________________________________\n",
      "leaky_re_lu_19 (LeakyReLU)   (None, 8, 8, 512)         0         \n",
      "_________________________________________________________________\n",
      "max_pooling2d_12 (MaxPooling (None, 4, 4, 512)         0         \n",
      "_________________________________________________________________\n",
      "spatial_dropout2d_12 (Spatia (None, 4, 4, 512)         0         \n",
      "_________________________________________________________________\n",
      "flatten_3 (Flatten)          (None, 8192)              0         \n",
      "_________________________________________________________________\n",
      "dense_7 (Dense)              (None, 2048)              16779264  \n",
      "_________________________________________________________________\n",
      "batch_normalization_20 (Batc (None, 2048)              8192      \n",
      "_________________________________________________________________\n",
      "leaky_re_lu_20 (LeakyReLU)   (None, 2048)              0         \n",
      "_________________________________________________________________\n",
      "dropout_5 (Dropout)          (None, 2048)              0         \n",
      "_________________________________________________________________\n",
      "dense_8 (Dense)              (None, 2048)              4196352   \n",
      "_________________________________________________________________\n",
      "batch_normalization_21 (Batc (None, 2048)              8192      \n",
      "_________________________________________________________________\n",
      "leaky_re_lu_21 (LeakyReLU)   (None, 2048)              0         \n",
      "_________________________________________________________________\n",
      "dropout_6 (Dropout)          (None, 2048)              0         \n",
      "_________________________________________________________________\n",
      "dense_9 (Dense)              (None, 200)               409800    \n",
      "=================================================================\n",
      "Total params: 23,010,952\n",
      "Trainable params: 23,000,776\n",
      "Non-trainable params: 10,176\n",
      "_________________________________________________________________\n",
      "Epoch 1/300\n",
      "3125/3125 [==============================] - 150s 48ms/step - loss: 5.7549 - accuracy: 0.0054 - top3_accuracy: 0.0153 - top5_accuracy: 0.0255 - val_loss: 5.3346 - val_accuracy: 0.0075 - val_top3_accuracy: 0.0193 - val_top5_accuracy: 0.0325\n",
      "\n",
      "Epoch 00001: val_accuracy improved from -inf to 0.00750, saving model to models/AlphaNet/AlphaNet.h5\n",
      "Epoch 2/300\n",
      "3125/3125 [==============================] - 165s 53ms/step - loss: 5.4390 - accuracy: 0.0080 - top3_accuracy: 0.0232 - top5_accuracy: 0.0374 - val_loss: 5.1624 - val_accuracy: 0.0098 - val_top3_accuracy: 0.0279 - val_top5_accuracy: 0.0446\n",
      "\n",
      "Epoch 00002: val_accuracy improved from 0.00750 to 0.00980, saving model to models/AlphaNet/AlphaNet.h5\n",
      "Epoch 3/300\n",
      "3125/3125 [==============================] - 169s 54ms/step - loss: 5.2942 - accuracy: 0.0109 - top3_accuracy: 0.0303 - top5_accuracy: 0.0490 - val_loss: 4.8815 - val_accuracy: 0.0173 - val_top3_accuracy: 0.0454 - val_top5_accuracy: 0.0702\n",
      "\n",
      "Epoch 00003: val_accuracy improved from 0.00980 to 0.01730, saving model to models/AlphaNet/AlphaNet.h5\n",
      "Epoch 4/300\n",
      "3125/3125 [==============================] - 167s 53ms/step - loss: 5.1703 - accuracy: 0.0180 - top3_accuracy: 0.0471 - top5_accuracy: 0.0729 - val_loss: 5.3049 - val_accuracy: 0.0283 - val_top3_accuracy: 0.0672 - val_top5_accuracy: 0.1045\n",
      "\n",
      "Epoch 00004: val_accuracy improved from 0.01730 to 0.02830, saving model to models/AlphaNet/AlphaNet.h5\n",
      "Epoch 5/300\n",
      "3125/3125 [==============================] - 167s 53ms/step - loss: 5.0829 - accuracy: 0.0230 - top3_accuracy: 0.0593 - top5_accuracy: 0.0905 - val_loss: 4.9640 - val_accuracy: 0.0328 - val_top3_accuracy: 0.0791 - val_top5_accuracy: 0.1214\n",
      "\n",
      "Epoch 00005: val_accuracy improved from 0.02830 to 0.03280, saving model to models/AlphaNet/AlphaNet.h5\n",
      "Epoch 6/300\n",
      "3125/3125 [==============================] - 167s 53ms/step - loss: 5.0221 - accuracy: 0.0279 - top3_accuracy: 0.0706 - top5_accuracy: 0.1069 - val_loss: 5.1753 - val_accuracy: 0.0389 - val_top3_accuracy: 0.0931 - val_top5_accuracy: 0.1358\n",
      "\n",
      "Epoch 00006: val_accuracy improved from 0.03280 to 0.03890, saving model to models/AlphaNet/AlphaNet.h5\n",
      "Epoch 7/300\n",
      "3125/3125 [==============================] - 164s 52ms/step - loss: 4.9723 - accuracy: 0.0319 - top3_accuracy: 0.0789 - top5_accuracy: 0.1168 - val_loss: 4.4020 - val_accuracy: 0.0431 - val_top3_accuracy: 0.0999 - val_top5_accuracy: 0.1451\n",
      "\n",
      "Epoch 00007: val_accuracy improved from 0.03890 to 0.04310, saving model to models/AlphaNet/AlphaNet.h5\n",
      "Epoch 8/300\n",
      "3125/3125 [==============================] - 166s 53ms/step - loss: 4.9217 - accuracy: 0.0365 - top3_accuracy: 0.0875 - top5_accuracy: 0.1280 - val_loss: 5.0083 - val_accuracy: 0.0454 - val_top3_accuracy: 0.1044 - val_top5_accuracy: 0.1497\n",
      "\n",
      "Epoch 00008: val_accuracy improved from 0.04310 to 0.04540, saving model to models/AlphaNet/AlphaNet.h5\n",
      "Epoch 9/300\n",
      "3125/3125 [==============================] - 166s 53ms/step - loss: 4.8836 - accuracy: 0.0402 - top3_accuracy: 0.0949 - top5_accuracy: 0.1381 - val_loss: 5.1585 - val_accuracy: 0.0482 - val_top3_accuracy: 0.1094 - val_top5_accuracy: 0.1548\n",
      "\n",
      "Epoch 00009: val_accuracy improved from 0.04540 to 0.04820, saving model to models/AlphaNet/AlphaNet.h5\n",
      "Epoch 10/300\n"
     ]
    },
    {
     "name": "stdout",
     "output_type": "stream",
     "text": [
      "3125/3125 [==============================] - 165s 53ms/step - loss: 4.8470 - accuracy: 0.0438 - top3_accuracy: 0.1020 - top5_accuracy: 0.1472 - val_loss: 5.1363 - val_accuracy: 0.0510 - val_top3_accuracy: 0.1133 - val_top5_accuracy: 0.1598\n",
      "\n",
      "Epoch 00010: val_accuracy improved from 0.04820 to 0.05100, saving model to models/AlphaNet/AlphaNet.h5\n",
      "Epoch 11/300\n",
      "3125/3125 [==============================] - 165s 53ms/step - loss: 4.8128 - accuracy: 0.0470 - top3_accuracy: 0.1095 - top5_accuracy: 0.1567 - val_loss: 4.9634 - val_accuracy: 0.0493 - val_top3_accuracy: 0.1149 - val_top5_accuracy: 0.1635\n",
      "\n",
      "Epoch 00011: val_accuracy did not improve from 0.05100\n",
      "Epoch 12/300\n",
      "3125/3125 [==============================] - 164s 52ms/step - loss: 4.7830 - accuracy: 0.0499 - top3_accuracy: 0.1146 - top5_accuracy: 0.1630 - val_loss: 4.5714 - val_accuracy: 0.0552 - val_top3_accuracy: 0.1243 - val_top5_accuracy: 0.1738\n",
      "\n",
      "Epoch 00012: val_accuracy improved from 0.05100 to 0.05520, saving model to models/AlphaNet/AlphaNet.h5\n",
      "Epoch 13/300\n",
      " 356/3125 [==>...........................] - ETA: 2:12 - loss: 4.7570 - accuracy: 0.0530 - top3_accuracy: 0.1180 - top5_accuracy: 0.1699"
     ]
    }
   ],
   "source": [
    "optim = optimizers.Adam(learning_rate=0.001)\n",
    "\n",
    "history = train(model_path=model_path, \n",
    "                restore=False, \n",
    "                epochs=300,\n",
    "                model=model, \n",
    "                optim=optim,\n",
    "                datagen=datagen,\n",
    "                data=data, \n",
    "                cb_list=cb_list)"
   ]
  },
  {
   "cell_type": "code",
   "execution_count": null,
   "metadata": {},
   "outputs": [],
   "source": [
    "show_history(history)"
   ]
  },
  {
   "cell_type": "code",
   "execution_count": null,
   "metadata": {},
   "outputs": [],
   "source": [
    "# This loads the model and makes predictions on the test set\n",
    "model = load_model(model_path)\n",
    "output = model.predict_generator(testgen.flow(X_test, shuffle=False))\n",
    "results = []\n",
    "\n",
    "for result in output:\n",
    "    results.append(labels[np.argmax(result)])\n",
    "    \n",
    "assert len(results) == len(X_test)\n",
    "print(\"Test images predicted:\", len(results))"
   ]
  },
  {
   "cell_type": "code",
   "execution_count": null,
   "metadata": {},
   "outputs": [],
   "source": [
    "# This writes the test set predictions to file\n",
    "with open(model_prefix + \" Predictions.txt\", \"w\") as test_file:\n",
    "    for i in range(len(results)):\n",
    "        test_file.write(test_images[i] + \" \" + results[i] + \"\\n\")\n",
    "    print(\"Predictions saved at\", test_file.name)"
   ]
  },
  {
   "cell_type": "code",
   "execution_count": null,
   "metadata": {},
   "outputs": [],
   "source": [
    "# This shows some test set images and the model's predictions on them\n",
    "display_dim = 128\n",
    "for _ in range(10):\n",
    "    index = np.random.randint(len(X_test))\n",
    "    img = Image.fromarray(X_test[index], \"RGB\").resize(size=(display_dim, display_dim))\n",
    "    word_label = words[results[index]]\n",
    "    display(img)\n",
    "    print(word_label)"
   ]
  },
  {
   "cell_type": "code",
   "execution_count": null,
   "metadata": {},
   "outputs": [],
   "source": [
    "# This saves an HTML version of the notebook for later viewing\n",
    "os.system(\"jupyter nbconvert --to html Training.ipynb\")\n",
    "\n",
    "html_path = model_prefix + \".html\"\n",
    "if path.exists(html_path):\n",
    "    os.remove(html_path)\n",
    "os.rename(\"Training.html\", html_path)"
   ]
  },
  {
   "cell_type": "code",
   "execution_count": null,
   "metadata": {},
   "outputs": [],
   "source": []
  }
 ],
 "metadata": {
  "kernelspec": {
   "display_name": "Python 3",
   "language": "python",
   "name": "python3"
  },
  "language_info": {
   "codemirror_mode": {
    "name": "ipython",
    "version": 3
   },
   "file_extension": ".py",
   "mimetype": "text/x-python",
   "name": "python",
   "nbconvert_exporter": "python",
   "pygments_lexer": "ipython3",
   "version": "3.7.6"
  }
 },
 "nbformat": 4,
 "nbformat_minor": 2
}
