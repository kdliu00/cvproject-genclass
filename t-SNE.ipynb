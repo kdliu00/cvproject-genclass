{
 "cells": [
  {
   "cell_type": "markdown",
   "metadata": {},
   "source": [
    "### t-SNE Visualization "
   ]
  },
  {
   "cell_type": "code",
   "execution_count": null,
   "metadata": {},
   "outputs": [],
   "source": [
    "import matplotlib.pyplot as plt\n",
    "\n",
    "import numpy as np\n",
    "from numpy import loadtxt\n",
    "\n",
    "from tools import *\n",
    "\n"
   ]
  },
  {
   "cell_type": "markdown",
   "metadata": {},
   "source": [
    "### Loading Data"
   ]
  },
  {
   "cell_type": "code",
   "execution_count": null,
   "metadata": {},
   "outputs": [],
   "source": [
    "X_train, y_train = load_data()\n",
    "\n"
   ]
  },
  {
   "cell_type": "markdown",
   "metadata": {},
   "source": [
    "### t-SNE Embedding"
   ]
  },
  {
   "cell_type": "code",
   "execution_count": null,
   "metadata": {},
   "outputs": [],
   "source": [
    "import seaborn as sns\n",
    "import pandas as pd\n",
    "from sklearn.manifold import TSNE\n",
    "from sklearn.decomposition import PCA\n"
   ]
  },
  {
   "cell_type": "markdown",
   "metadata": {},
   "source": [
    "#### As we had seen prior with our experimentation with the explained variance of features we will first decide to perform PCA on the training data to reduce the dimension of the images. We will then perform this t-SNE embedding. Currently, we will ensure to retain 90 percent of the variance when reducing the dimensionality of our data-set. For the purposes of data-visualization we have also decided to choose a sub-sample of the existing data due to the quadratic cost of the t-SNE visualization. Due to the fact we also have 200 classes, we have also decided to perform the t-SNE embedding on a small subset of the classes."
   ]
  },
  {
   "cell_type": "code",
   "execution_count": null,
   "metadata": {},
   "outputs": [],
   "source": [
    "num_samples = 100000\n",
    "num_classes = 200\n",
    "classes_to_choose = 5\n",
    "classes_to_visualize = np.random.choice(num_classes, classes_to_choose)\n",
    "X, y = X_train[:num_samples], y_train[:num_samples]\n",
    "\n",
    "X_filtered, y_filtered = [], []\n",
    "\n",
    "for x,label in zip(X,y):\n",
    "    if label in classes_to_visualize:\n",
    "        X_filtered.append(x)\n",
    "        y_filtered.append(label)\n",
    "X_filtered = np.array(X_filtered)\n",
    "y_filtered = np.array(y_filtered)"
   ]
  },
  {
   "cell_type": "code",
   "execution_count": null,
   "metadata": {},
   "outputs": [],
   "source": [
    "labels = get_label_dict()\n",
    "words = get_word_labels()\n",
    "num_samples = X_filtered.shape[0]\n",
    "y_labels = []\n",
    "for i in range(num_samples):\n",
    "    y_labels.append(words[labels[y_filtered[i]]][0].lower())"
   ]
  },
  {
   "cell_type": "code",
   "execution_count": null,
   "metadata": {},
   "outputs": [],
   "source": [
    "pca = PCA(n_components=0.90, svd_solver='full')\n",
    "X_fit= pca.fit_transform(X_filtered.reshape((num_samples,-1)))\n"
   ]
  },
  {
   "cell_type": "markdown",
   "metadata": {},
   "source": [
    "##### Experimenting with different perplexity values"
   ]
  },
  {
   "cell_type": "code",
   "execution_count": null,
   "metadata": {},
   "outputs": [],
   "source": [
    "for i in range(1,10,1):\n",
    "    tsne = TSNE(n_components=2, verbose=1, perplexity=i, n_iter=3000)\n",
    "    tsne_results = tsne.fit_transform(X_filtered.reshape(num_samples,-1))\n",
    "    plt.figure()\n",
    "    ax = sns.scatterplot(x=tsne_results[:,0],y=tsne_results[:,1], hue=y_labels)\n",
    "    ax.set_title(f't-SNE embedding tinyImageNet w/perplexity:{i}')\n",
    "    fig = ax.get_figure()\n",
    "    plt.savefig(f't-SNE with perplxity {i}.png', format='png')"
   ]
  },
  {
   "cell_type": "code",
   "execution_count": null,
   "metadata": {},
   "outputs": [],
   "source": []
  }
 ],
 "metadata": {
  "kernelspec": {
   "display_name": "Python 3",
   "language": "python",
   "name": "python3"
  },
  "language_info": {
   "codemirror_mode": {
    "name": "ipython",
    "version": 3
   },
   "file_extension": ".py",
   "mimetype": "text/x-python",
   "name": "python",
   "nbconvert_exporter": "python",
   "pygments_lexer": "ipython3",
   "version": "3.7.7"
  }
 },
 "nbformat": 4,
 "nbformat_minor": 4
}
