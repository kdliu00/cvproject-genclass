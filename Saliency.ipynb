{
 "cells": [
  {
   "cell_type": "markdown",
   "metadata": {},
   "source": [
    "# Saliency Visualization"
   ]
  },
  {
   "cell_type": "markdown",
   "metadata": {},
   "source": [
    "Helpful Links:\n",
    "https://fairyonice.github.io/Saliency-Map-with-keras-vis.html\n",
    "https://www.machinecurve.com/index.php/2019/11/25/visualizing-keras-cnn-attention-saliency-maps/#introducing-keras-vis"
   ]
  },
  {
   "cell_type": "code",
   "execution_count": null,
   "metadata": {},
   "outputs": [],
   "source": [
    "!pip3 install git+git://github.com/raghakot/keras-vis.git --upgrade --no-deps"
   ]
  },
  {
   "cell_type": "code",
   "execution_count": null,
   "metadata": {},
   "outputs": [],
   "source": [
    "!pip3 install -r requirements.txt\n",
    "\n",
    "import keras\n",
    "import vis\n",
    "\n",
    "from keras import activations\n",
    "from keras.models import load_model\n",
    "from keras.utils import to_categorical, CustomObjectScope\n",
    "\n",
    "import matplotlib.pyplot as plt\n",
    "import matplotlib.patches as patches\n",
    "\n",
    "from models import AlphaNet\n",
    "\n",
    "import numpy as np\n",
    "from numpy import loadtxt\n",
    "\n",
    "from tools import *\n",
    "from train import *\n",
    "\n",
    "from vis.visualization import visualize_saliency\n",
    "from vis.utils import utils\n"
   ]
  },
  {
   "cell_type": "code",
   "execution_count": null,
   "metadata": {},
   "outputs": [],
   "source": [
    "assert int(tf.__version__[0]) >= 2\n",
    "from skimage.transform import resize"
   ]
  },
  {
   "cell_type": "code",
   "execution_count": null,
   "metadata": {},
   "outputs": [],
   "source": [
    "# load model\n",
    "custom_metrics = {\n",
    "    \"top3_accuracy\": top3_acc,\n",
    "    \"top5_accuracy\": top5_acc\n",
    "}\n",
    "model = load_model('../BravoNet.h5', custom_objects=custom_metrics) \n",
    "model.summary()\n"
   ]
  },
  {
   "cell_type": "code",
   "execution_count": null,
   "metadata": {},
   "outputs": [],
   "source": [
    "X_train, y_train = load_data()\n",
    "X_val, y_val = load_data(\"val\")\n",
    "X_test, _ = load_data(\"test\")\n",
    "\n",
    "y_train = to_categorical(y_train, 200)\n",
    "y_val = to_categorical(y_val, 200)"
   ]
  },
  {
   "cell_type": "code",
   "execution_count": null,
   "metadata": {},
   "outputs": [],
   "source": [
    "boxes = get_box_dict_val()\n",
    "assert(len(boxes) == len(X_val))\n"
   ]
  },
  {
   "cell_type": "code",
   "execution_count": null,
   "metadata": {},
   "outputs": [],
   "source": [
    "labels = get_label_dict()\n",
    "words = get_word_labels()\n",
    "\n",
    "test_images = os.listdir(\"data/tiny-imagenet-200/test/images/\")\n",
    "assert len(X_test) == len(test_images)"
   ]
  },
  {
   "cell_type": "code",
   "execution_count": null,
   "metadata": {},
   "outputs": [],
   "source": [
    "with CustomObjectScope({\"top3_accuracy\": top3_acc, \"top5_accuracy\": top5_acc,}):\n",
    "    layer_index = -1\n",
    "    model.layers[layer_index].activation = activations.linear\n",
    "    model = utils.apply_modifications(model)  "
   ]
  },
  {
   "cell_type": "code",
   "execution_count": null,
   "metadata": {},
   "outputs": [],
   "source": [
    "# indices_to_visualize = [ 5, 19, 38, 82, 111, 76, 194 ]\n",
    "indices_to_visualize = np.random.choice(len(X_val), 10)\n",
    "\n",
    "with CustomObjectScope({\"top3_accuracy\": top3_acc, \"top5_accuracy\": top5_acc,}):\n",
    "\n",
    "    for index_to_visualize in indices_to_visualize:\n",
    "        # Get input\n",
    "        input_image = X_val[index_to_visualize]\n",
    "        input_class = np.argmax(y_val[index_to_visualize])\n",
    "        \n",
    "        # Matplotlib preparations\n",
    "        fig, axes = plt.subplots(1, 2)\n",
    "        \n",
    "        # Generate visualization\n",
    "        input_image = resize(input_image, (72, 72, 3))\n",
    "        visualization = visualize_saliency(model, layer_index, filter_indices=input_class, seed_input=input_image)\n",
    "\n",
    "        y_pred = model.predict(input_image[np.newaxis,...])\n",
    "        class_idxs_sorted = np.argsort(y_pred.flatten())[::-1]\n",
    "\n",
    "        class_idx = class_idxs_sorted[0]\n",
    "\n",
    "        axes[0].imshow(input_image) \n",
    "        b = boxes['val_'+str(index_to_visualize)+'.JPEG']\n",
    "        rect = patches.Rectangle((int(b[0]),int(b[1])),int(b[2]),int(b[3]),linewidth=1,edgecolor='b',facecolor='none')\n",
    "        axes[0].add_patch(rect)\n",
    "        axes[0].set_title('Original image')\n",
    "        axes[1].imshow(visualization)\n",
    "\n",
    "        axes[1].set_title('Saliency map')\n",
    "        fig.suptitle(words[labels[class_idx]])\n",
    "        fname = './saliency'+str(index_to_visualize)+'.png'\n",
    "        plt.savefig(fname, bbox_inches='tight')\n",
    "        plt.show()\n",
    "\n",
    "\n",
    "        "
   ]
  },
  {
   "cell_type": "code",
   "execution_count": null,
   "metadata": {},
   "outputs": [],
   "source": []
  }
 ],
 "metadata": {
  "kernelspec": {
   "display_name": "Python 3",
   "language": "python",
   "name": "python3"
  },
  "language_info": {
   "codemirror_mode": {
    "name": "ipython",
    "version": 3
   },
   "file_extension": ".py",
   "mimetype": "text/x-python",
   "name": "python",
   "nbconvert_exporter": "python",
   "pygments_lexer": "ipython3",
   "version": "3.7.7"
  }
 },
 "nbformat": 4,
 "nbformat_minor": 2
}
