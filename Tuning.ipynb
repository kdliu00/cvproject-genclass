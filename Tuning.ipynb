{
 "cells": [
  {
   "cell_type": "code",
   "execution_count": null,
   "metadata": {},
   "outputs": [],
   "source": [
    "%load_ext autoreload\n",
    "%autoreload 2\n",
    "\n",
    "from train import *\n",
    "from models import *\n",
    "from tools import *\n",
    "\n",
    "from keras import optimizers\n",
    "from keras.models import load_model\n",
    "from keras.utils import to_categorical\n",
    "from keras.callbacks import *\n",
    "from keras.preprocessing.image import ImageDataGenerator\n",
    "\n",
    "from PIL import Image\n",
    "from IPython.display import display\n",
    "\n",
    "import numpy as np\n",
    "import os\n",
    "import random"
   ]
  },
  {
   "cell_type": "code",
   "execution_count": null,
   "metadata": {},
   "outputs": [],
   "source": [
    "X_train, y_train = load_data()\n",
    "X_val, y_val = load_data(\"val\")\n",
    "\n",
    "input_shape = X_train[0].shape\n",
    "print(\"Input shape: \" + str(input_shape))\n",
    "print(X_train[0][0][0])\n",
    "\n",
    "y_train = to_categorical(y_train, 200)\n",
    "y_val = to_categorical(y_val, 200)"
   ]
  },
  {
   "cell_type": "code",
   "execution_count": null,
   "metadata": {},
   "outputs": [],
   "source": [
    "labels = get_label_dict()\n",
    "words = get_word_labels()"
   ]
  },
  {
   "cell_type": "code",
   "execution_count": null,
   "metadata": {
    "scrolled": false
   },
   "outputs": [],
   "source": [
    "# Image preprocessing for the data\n",
    "datagen = ImageDataGenerator(horizontal_flip=True, \n",
    "                             shear_range=20., \n",
    "                             zoom_range=0.4, \n",
    "                             width_shift_range=0.2,\n",
    "                             height_shift_range=0.2, \n",
    "                             channel_shift_range=0.1, \n",
    "                             fill_mode=\"reflect\", \n",
    "                             preprocessing_function=shuffle_channels)\n",
    "\n",
    "testgen = ImageDataGenerator()\n",
    "\n",
    "data = {\"train\": (X_train, y_train), \n",
    "        \"val\": (X_val, y_val)}"
   ]
  },
  {
   "cell_type": "code",
   "execution_count": null,
   "metadata": {
    "scrolled": true
   },
   "outputs": [],
   "source": [
    "def lr_tune(optim_class, trials):\n",
    "    results = []\n",
    "    \n",
    "    for _ in range(trials):\n",
    "        lr = random.uniform(8e-4, 8e-3)\n",
    "        optim = optim_class(learning_rate=lr)\n",
    "        \n",
    "        history = train(model_path=model_path, \n",
    "                        restore=False, \n",
    "                        epochs=5,\n",
    "                        model=model, \n",
    "                        optim=optim,\n",
    "                        datagen=datagen, \n",
    "                        testgen=testgen, \n",
    "                        data=data, \n",
    "                        cb_list=[], \n",
    "                        batch_size=32, \n",
    "                        verbosity=0)\n",
    "\n",
    "        history = history.history\n",
    "\n",
    "        train_acc = history[\"accuracy\"][-1]\n",
    "        val_acc = history[\"val_accuracy\"][-1]\n",
    "\n",
    "        result = \"lr: {}, train: {}, val: {}\\n\".format(lr, train_acc, val_acc)\n",
    "        results.append(result)\n",
    "        print(result)\n",
    "        \n",
    "    return results"
   ]
  },
  {
   "cell_type": "code",
   "execution_count": null,
   "metadata": {},
   "outputs": [],
   "source": [
    "keras.backend.clear_session()\n",
    "\n",
    "model = AlphaNet(input_shape, \"v5\", quiet=True)\n",
    "model_prefix = \"models/\" + model.name + \"/\" + model.name\n",
    "model_path = model_prefix + \".h5\""
   ]
  },
  {
   "cell_type": "code",
   "execution_count": null,
   "metadata": {},
   "outputs": [],
   "source": [
    "optim_list = [\n",
    "    optimizers.Adam, \n",
    "    optimizers.RMSprop, \n",
    "    optimizers.Adadelta, \n",
    "    optimizers.SGD\n",
    "]\n",
    "\n",
    "for optim_class in optim_list:\n",
    "    optim_name = str(optim_class)[25:-2]\n",
    "    print(optim_name)\n",
    "    results = lr_tune(optim_class, 3)\n",
    "    file = open(\"tuning/\" + model.name + \"/\" + optim_name + \".txt\", \"w\")\n",
    "    \n",
    "    for result in results:\n",
    "        file.write(result)\n",
    "    \n",
    "    file.close()"
   ]
  },
  {
   "cell_type": "code",
   "execution_count": null,
   "metadata": {},
   "outputs": [],
   "source": []
  }
 ],
 "metadata": {
  "kernelspec": {
   "display_name": "Python 3",
   "language": "python",
   "name": "python3"
  },
  "language_info": {
   "codemirror_mode": {
    "name": "ipython",
    "version": 3
   },
   "file_extension": ".py",
   "mimetype": "text/x-python",
   "name": "python",
   "nbconvert_exporter": "python",
   "pygments_lexer": "ipython3",
   "version": "3.7.7"
  }
 },
 "nbformat": 4,
 "nbformat_minor": 2
}
