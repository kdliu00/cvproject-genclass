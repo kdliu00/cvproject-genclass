{
 "cells": [
  {
   "cell_type": "code",
   "execution_count": 54,
   "metadata": {},
   "outputs": [
    {
     "name": "stdout",
     "output_type": "stream",
     "text": [
      "The autoreload extension is already loaded. To reload it, use:\n",
      "  %reload_ext autoreload\n"
     ]
    }
   ],
   "source": [
    "%load_ext autoreload\n",
    "%autoreload 2\n",
    "\n",
    "from train import *\n",
    "from models import *\n",
    "from tools import *\n",
    "\n",
    "from keras import optimizers\n",
    "from keras.models import load_model\n",
    "from keras.utils import to_categorical\n",
    "from keras.callbacks import *\n",
    "from keras.preprocessing.image import ImageDataGenerator\n",
    "\n",
    "from PIL import Image\n",
    "from IPython.display import display\n",
    "\n",
    "import numpy as np\n",
    "import os\n",
    "import random"
   ]
  },
  {
   "cell_type": "code",
   "execution_count": 29,
   "metadata": {},
   "outputs": [
    {
     "name": "stdout",
     "output_type": "stream",
     "text": [
      "Loading train data\n",
      "\n",
      "Finished loading train data\n",
      "\n",
      "Loading val data\n",
      "\n",
      "Finished loading val data\n",
      "\n",
      "Input shape: (64, 64, 3)\n",
      "[0.75294118 0.83137255 0.83529412]\n"
     ]
    }
   ],
   "source": [
    "X_train, y_train = load_data()\n",
    "X_val, y_val = load_data(\"val\")\n",
    "\n",
    "input_shape = X_train[0].shape\n",
    "print(\"Input shape: \" + str(input_shape))\n",
    "print(X_train[0][0][0])\n",
    "\n",
    "y_train = to_categorical(y_train, 200)\n",
    "y_val = to_categorical(y_val, 200)"
   ]
  },
  {
   "cell_type": "code",
   "execution_count": 30,
   "metadata": {},
   "outputs": [
    {
     "name": "stdout",
     "output_type": "stream",
     "text": [
      "Loading labels\n",
      "\n",
      "Done\n",
      "\n",
      "Loading words\n",
      "\n",
      "Done\n",
      "\n"
     ]
    }
   ],
   "source": [
    "labels = get_label_dict()\n",
    "words = get_word_labels()"
   ]
  },
  {
   "cell_type": "code",
   "execution_count": 56,
   "metadata": {
    "scrolled": false
   },
   "outputs": [],
   "source": [
    "# Image preprocessing for the data\n",
    "datagen = ImageDataGenerator(horizontal_flip=True, \n",
    "                             shear_range=20., \n",
    "                             zoom_range=0.4, \n",
    "                             width_shift_range=0.2,\n",
    "                             height_shift_range=0.2, \n",
    "                             channel_shift_range=0.1, \n",
    "                             fill_mode=\"reflect\", \n",
    "                             preprocessing_function=shuffle_channels)\n",
    "\n",
    "testgen = ImageDataGenerator()\n",
    "\n",
    "data = {\"train\": (X_train, y_train), \n",
    "        \"val\": (X_val, y_val)}"
   ]
  },
  {
   "cell_type": "code",
   "execution_count": 66,
   "metadata": {
    "scrolled": true
   },
   "outputs": [],
   "source": [
    "def lr_tune(model, optim_class):\n",
    "    results = []\n",
    "    \n",
    "    for _ in range(5):\n",
    "        keras.backend.clear_session()\n",
    "\n",
    "        lr = random.uniform(1e-4, 1e-1)\n",
    "        optim = optim_class(learning_rate=lr)\n",
    "\n",
    "        history = train(model_path=model_path, \n",
    "                        restore=False, \n",
    "                        epochs=10,\n",
    "                        model=model, \n",
    "                        optim=optim,\n",
    "                        datagen=datagen, \n",
    "                        testgen=testgen, \n",
    "                        data=data, \n",
    "                        cb_list=None, \n",
    "                        batch_size=32, \n",
    "                        verbosity=0)\n",
    "\n",
    "        history = history.history\n",
    "\n",
    "        train_acc = history[\"accuracy\"][-1]\n",
    "        val_acc = history[\"val_accuracy\"][-1]\n",
    "\n",
    "        result = \"lr: {}, train: {}, val: {}\".format(lr, train_acc, val_acc)\n",
    "        results.append(result)\n",
    "        print(result)\n",
    "        \n",
    "    return results"
   ]
  },
  {
   "cell_type": "code",
   "execution_count": null,
   "metadata": {},
   "outputs": [],
   "source": [
    "optim_list = [optimizers.Adam, optimizers.RMSProp, optimizers.Adadelta, optimizers.Ftrl]\n",
    "\n",
    "for optim in optim_list:\n",
    "    print(optim.name)\n",
    "    results = lr_tune(BravoNet(input_shape, \"v3\", quiet=True), optim)\n",
    "    file = open(\"tuning/\" + optim.name + \".txt\", \"w\")\n",
    "    file.write(results)\n",
    "    file.close()"
   ]
  }
 ],
 "metadata": {
  "kernelspec": {
   "display_name": "Python 3",
   "language": "python",
   "name": "python3"
  },
  "language_info": {
   "codemirror_mode": {
    "name": "ipython",
    "version": 3
   },
   "file_extension": ".py",
   "mimetype": "text/x-python",
   "name": "python",
   "nbconvert_exporter": "python",
   "pygments_lexer": "ipython3",
   "version": "3.7.7"
  }
 },
 "nbformat": 4,
 "nbformat_minor": 2
}
